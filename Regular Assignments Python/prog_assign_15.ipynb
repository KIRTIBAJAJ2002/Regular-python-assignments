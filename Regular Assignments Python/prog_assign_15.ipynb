{
  "nbformat": 4,
  "nbformat_minor": 0,
  "metadata": {
    "colab": {
      "provenance": []
    },
    "kernelspec": {
      "name": "python3",
      "display_name": "Python 3"
    },
    "language_info": {
      "name": "python"
    }
  },
  "cells": [
    {
      "cell_type": "code",
      "execution_count": 2,
      "metadata": {
        "colab": {
          "base_uri": "https://localhost:8080/"
        },
        "id": "b0SBj6zvNdKD",
        "outputId": "acdd7d9b-e94a-4ae5-e659-fcd696f679e0"
      },
      "outputs": [
        {
          "output_type": "stream",
          "name": "stdout",
          "text": [
            "Enter a value for n: 54\n",
            "0,35\n"
          ]
        }
      ],
      "source": [
        "def divisible_by_5_and_7(n):\n",
        "    for num in range(n + 1):\n",
        "        if num % 5 == 0 and num % 7 == 0:\n",
        "            yield num\n",
        "\n",
        "n = int(input(\"Enter a value for n: \"))\n",
        "\n",
        "result = list(divisible_by_5_and_7(n))\n",
        "print(','.join(map(str, result)))\n"
      ]
    },
    {
      "cell_type": "code",
      "source": [
        "def even_numbers(n):\n",
        "    for num in range(0, n + 1, 2):\n",
        "        yield num\n",
        "\n",
        "n = int(input(\"Enter a value for n: \"))\n",
        "\n",
        "result = list(even_numbers(n))\n",
        "print(','.join(map(str, result)))\n"
      ],
      "metadata": {
        "colab": {
          "base_uri": "https://localhost:8080/"
        },
        "id": "6pVkoaovQoaR",
        "outputId": "97d92ad9-4ec7-415d-ee7c-db7882d884d0"
      },
      "execution_count": 4,
      "outputs": [
        {
          "output_type": "stream",
          "name": "stdout",
          "text": [
            "Enter a value for n: 75\n",
            "0,2,4,6,8,10,12,14,16,18,20,22,24,26,28,30,32,34,36,38,40,42,44,46,48,50,52,54,56,58,60,62,64,66,68,70,72,74\n"
          ]
        }
      ]
    },
    {
      "cell_type": "code",
      "source": [
        "def fibonacci(n):\n",
        "    fib_sequence = [0, 1]\n",
        "    [fib_sequence.append(fib_sequence[-1] + fib_sequence[-2]) for _ in range(2, n + 1)]\n",
        "    return fib_sequence\n",
        "\n",
        "n = int(input(\"Enter a value for n: \"))\n",
        "\n",
        "result = fibonacci(n)\n",
        "print(','.join(map(str, result)))\n"
      ],
      "metadata": {
        "colab": {
          "base_uri": "https://localhost:8080/"
        },
        "id": "GDCAzM2hRVVM",
        "outputId": "f961887c-838c-490c-bd0d-355ed0fef615"
      },
      "execution_count": 5,
      "outputs": [
        {
          "output_type": "stream",
          "name": "stdout",
          "text": [
            "Enter a value for n: 15\n",
            "0,1,1,2,3,5,8,13,21,34,55,89,144,233,377,610\n"
          ]
        }
      ]
    },
    {
      "cell_type": "code",
      "source": [
        "def extract_username(email):\n",
        "    username = email.split('@')[0]\n",
        "    return username\n",
        "\n",
        "email = input(\"Enter an email address: \")\n",
        "\n",
        "username = extract_username(email)\n",
        "print(username)\n"
      ],
      "metadata": {
        "colab": {
          "base_uri": "https://localhost:8080/"
        },
        "id": "Tm0t_N_YSCbI",
        "outputId": "5012125d-6f0c-428a-e3a9-186e764d7e16"
      },
      "execution_count": 6,
      "outputs": [
        {
          "output_type": "stream",
          "name": "stdout",
          "text": [
            "Enter an email address: bajajkirti1818@gmail.com\n",
            "bajajkirti1818\n"
          ]
        }
      ]
    },
    {
      "cell_type": "code",
      "source": [
        "class Shape:\n",
        "    def __init__(self):\n",
        "        pass\n",
        "\n",
        "    def area(self):\n",
        "        return 0\n",
        "\n",
        "class Square(Shape):\n",
        "    def __init__(self, length):\n",
        "        self.length = length\n",
        "\n",
        "    def area(self):\n",
        "        return self.length ** 2\n",
        "\n",
        "shape = Shape()\n",
        "print(\"Shape Area:\", shape.area())\n",
        "\n",
        "square = Square(5)\n",
        "print(\"Square Area:\", square.area())\n"
      ],
      "metadata": {
        "colab": {
          "base_uri": "https://localhost:8080/"
        },
        "id": "jggvhIyXSQn-",
        "outputId": "70115bbd-d409-4b20-c2bf-cb4219ac3583"
      },
      "execution_count": 7,
      "outputs": [
        {
          "output_type": "stream",
          "name": "stdout",
          "text": [
            "Shape Area: 0\n",
            "Square Area: 25\n"
          ]
        }
      ]
    },
    {
      "cell_type": "code",
      "source": [],
      "metadata": {
        "id": "kInRk7PuSior"
      },
      "execution_count": null,
      "outputs": []
    }
  ]
}