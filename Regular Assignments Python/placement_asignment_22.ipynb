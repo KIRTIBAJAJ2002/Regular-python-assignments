{
  "nbformat": 4,
  "nbformat_minor": 0,
  "metadata": {
    "colab": {
      "provenance": []
    },
    "kernelspec": {
      "name": "python3",
      "display_name": "Python 3"
    },
    "language_info": {
      "name": "python"
    }
  },
  "cells": [
    {
      "cell_type": "code",
      "execution_count": 4,
      "metadata": {
        "colab": {
          "base_uri": "https://localhost:8080/"
        },
        "id": "n8eaZL4Z7VHr",
        "outputId": "e8a93683-3051-4eaa-9450-568f2f195fb4"
      },
      "outputs": [
        {
          "output_type": "stream",
          "name": "stdout",
          "text": [
            "5 10 15 20 25 "
          ]
        }
      ],
      "source": [
        "#1\n",
        "class TreeNode:\n",
        "    def __init__(self, value):\n",
        "        self.value = value\n",
        "        self.left = None\n",
        "        self.right = None\n",
        "\n",
        "class DoublyLinkedListNode:\n",
        "    def __init__(self, value):\n",
        "        self.value = value\n",
        "        self.prev = None\n",
        "        self.next = None\n",
        "\n",
        "def binary_tree_to_dll(root):\n",
        "    # Initialize previous node as None\n",
        "    prev_node = None\n",
        "\n",
        "    # Convert binary tree to DLL\n",
        "    def convert(node):\n",
        "        nonlocal prev_node\n",
        "\n",
        "        if node is None:\n",
        "            return None\n",
        "\n",
        "        head = convert(node.left)\n",
        "\n",
        "        node.left = prev_node\n",
        "\n",
        "        if prev_node is not None:\n",
        "            prev_node.right = node\n",
        "\n",
        "        prev_node = node\n",
        "\n",
        "        tail = convert(node.right)\n",
        "\n",
        "        node.right = tail\n",
        "\n",
        "        if tail is not None:\n",
        "            tail.left = node\n",
        "\n",
        "        return head if head is not None else node\n",
        "\n",
        "    head = convert(root)\n",
        "\n",
        "    return head\n",
        "\n",
        "root = TreeNode(10)\n",
        "root.left = TreeNode(5)\n",
        "root.right = TreeNode(20)\n",
        "root.right.left = TreeNode(15)\n",
        "root.right.right = TreeNode(25)\n",
        "\n",
        "head = binary_tree_to_dll(root)\n",
        "\n",
        "# Print the DLL\n",
        "def print_dll(head):\n",
        "    if head is None:\n",
        "        return\n",
        "\n",
        "    node = head\n",
        "    while node:\n",
        "        print(node.value, end=\" \")\n",
        "        node = node.right\n",
        "\n",
        "print_dll(head)\n"
      ]
    },
    {
      "cell_type": "code",
      "source": [
        "#2\n",
        "class TreeNode:\n",
        "    def __init__(self, value):\n",
        "        self.value = value\n",
        "        self.left = None\n",
        "        self.right = None\n",
        "\n",
        "def flip_binary_tree(root):\n",
        "    if root is None or (root.left is None and root.right is None):\n",
        "        return root\n",
        "\n",
        "    flipped_root = flip_binary_tree(root.left)\n",
        "\n",
        "    root.left.left = root.right\n",
        "    root.left.right = root\n",
        "\n",
        "    root.left = None\n",
        "    root.right = None\n",
        "\n",
        "    return flipped_root\n",
        "\n",
        "root = TreeNode(1)\n",
        "root.left = TreeNode(2)\n",
        "root.right = TreeNode(3)\n",
        "root.left.left = TreeNode(4)\n",
        "root.left.right = TreeNode(5)\n",
        "\n",
        "flipped_root = flip_binary_tree(root)\n",
        "\n",
        "def print_tree(root):\n",
        "    if root is None:\n",
        "        return\n",
        "\n",
        "    print(root.value, end=\" \")\n",
        "    print_tree(root.left)\n",
        "    print_tree(root.right)\n",
        "\n",
        "print_tree(flipped_root)\n"
      ],
      "metadata": {
        "colab": {
          "base_uri": "https://localhost:8080/"
        },
        "id": "wplc_z2x7iNN",
        "outputId": "a6c0b0d6-8cd8-4896-e70f-6141887f7f51"
      },
      "execution_count": 2,
      "outputs": [
        {
          "output_type": "stream",
          "name": "stdout",
          "text": [
            "4 5 2 3 1 "
          ]
        }
      ]
    },
    {
      "cell_type": "code",
      "source": [
        "\n",
        "#3\n",
        "class TreeNode:\n",
        "    def __init__(self, value):\n",
        "        self.value = value\n",
        "        self.left = None\n",
        "        self.right = None\n",
        "\n",
        "def print_root_to_leaf_paths(root):\n",
        "    if root is None:\n",
        "        return\n",
        "\n",
        "    stack = [(root, str(root.value))]\n",
        "    while stack:\n",
        "        node, path = stack.pop()\n",
        "\n",
        "\n",
        "        if node.left is None and node.right is None:\n",
        "            print(path)\n",
        "\n",
        "        if node.right is not None:\n",
        "            stack.append((node.right, path + \"->\" + str(node.right.value)))\n",
        "\n",
        "        if node.left is not None:\n",
        "            stack.append((node.left, path + \"->\" + str(node.left.value)))\n",
        "\n",
        "root = TreeNode(6)\n",
        "root.left = TreeNode(3)\n",
        "root.right = TreeNode(5)\n",
        "root.left.left = TreeNode(2)\n",
        "root.left.right = TreeNode(5)\n",
        "root.right.right = TreeNode(4)\n",
        "root.left.right.left = TreeNode(7)\n",
        "root.left.right.right = TreeNode(4)\n",
        "\n",
        "print_root_to_leaf_paths(root)\n"
      ],
      "metadata": {
        "colab": {
          "base_uri": "https://localhost:8080/"
        },
        "id": "iWzp2Lao7mii",
        "outputId": "013cacc4-d5c5-4402-97d2-a3d94ebcc985"
      },
      "execution_count": 3,
      "outputs": [
        {
          "output_type": "stream",
          "name": "stdout",
          "text": [
            "6->3->2\n",
            "6->3->5->7\n",
            "6->3->5->4\n",
            "6->5->4\n"
          ]
        }
      ]
    },
    {
      "cell_type": "code",
      "source": [
        "#4\n",
        "def is_same_tree(preorder, inorder, postorder):\n",
        "    if not preorder or not inorder or not postorder:\n",
        "        return True\n",
        "\n",
        "    if len(preorder) != len(inorder) or len(preorder) != len(postorder):\n",
        "        return False\n",
        "\n",
        "    if preorder[0] != inorder[0] or preorder[0] != postorder[-1]:\n",
        "        return False\n",
        "\n",
        "    root = preorder[0]\n",
        "    root_index = inorder.index(root)\n",
        "\n",
        "    left_inorder = inorder[:root_index]\n",
        "    right_inorder = inorder[root_index+1:]\n",
        "\n",
        "    left_preorder = preorder[1:root_index+1]\n",
        "    right_preorder = preorder[root_index+1:]\n",
        "\n",
        "    left_postorder = postorder[:root_index]\n",
        "    right_postorder = postorder[root_index:-1]\n",
        "\n",
        "    return is_same_tree(left_preorder, left_inorder, left_postorder) and is_same_tree(right_preorder, right_inorder, right_postorder)\n",
        "\n",
        "inorder = [4, 2, 5, 1, 3]\n",
        "preorder = [1, 2, 4, 5, 3]\n",
        "postorder = [4, 5, 2, 3, 1]\n",
        "\n",
        "if is_same_tree(preorder, inorder, postorder):\n",
        "    print(\"Yes\")\n",
        "else:\n",
        "    print(\"No\")\n"
      ],
      "metadata": {
        "colab": {
          "base_uri": "https://localhost:8080/"
        },
        "id": "9SEM42oZ7v38",
        "outputId": "215ad7bf-25e3-43cf-c6db-f9aec545b374"
      },
      "execution_count": 6,
      "outputs": [
        {
          "output_type": "stream",
          "name": "stdout",
          "text": [
            "No\n"
          ]
        }
      ]
    },
    {
      "cell_type": "code",
      "source": [],
      "metadata": {
        "id": "sVDkf5pJ8J3W"
      },
      "execution_count": null,
      "outputs": []
    }
  ]
}