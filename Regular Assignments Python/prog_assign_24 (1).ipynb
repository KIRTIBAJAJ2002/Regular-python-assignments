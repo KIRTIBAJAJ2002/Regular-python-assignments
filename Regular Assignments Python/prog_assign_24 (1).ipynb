{
  "nbformat": 4,
  "nbformat_minor": 0,
  "metadata": {
    "colab": {
      "provenance": []
    },
    "kernelspec": {
      "name": "python3",
      "display_name": "Python 3"
    },
    "language_info": {
      "name": "python"
    }
  },
  "cells": [
    {
      "cell_type": "code",
      "execution_count": 1,
      "metadata": {
        "colab": {
          "base_uri": "https://localhost:8080/"
        },
        "id": "PsR0QIJ2LEnr",
        "outputId": "a51fa030-b54e-475e-d58a-3ef1fe24ab83"
      },
      "outputs": [
        {
          "output_type": "stream",
          "name": "stdout",
          "text": [
            "[1, 2, 3, 40]\n"
          ]
        }
      ],
      "source": [
        "#1\n",
        "def amplify(number):\n",
        "    result = []\n",
        "    for i in range(1, number + 1):\n",
        "        if i % 4 == 0:\n",
        "            result.append(10 * i)\n",
        "        else:\n",
        "            result.append(i)\n",
        "    return result\n",
        "\n",
        "print(amplify(4))\n"
      ]
    },
    {
      "cell_type": "code",
      "source": [
        "#2\n",
        "def unique(numbers):\n",
        "    unique_dict = {}\n",
        "\n",
        "    for num in numbers:\n",
        "        if num in unique_dict:\n",
        "            unique_dict[num] += 1\n",
        "        else:\n",
        "            unique_dict[num] = 1\n",
        "\n",
        "    for key, value in unique_dict.items():\n",
        "        if value == 1:\n",
        "            return key\n",
        "\n",
        "print(unique([3, 3, 3, 7, 3, 3]))\n",
        "print(unique([0, 0, 0.77, 0, 0]))\n"
      ],
      "metadata": {
        "colab": {
          "base_uri": "https://localhost:8080/"
        },
        "id": "GosRfLQPLJ4K",
        "outputId": "91d8e98a-0b21-413d-f341-2b44c3f5164a"
      },
      "execution_count": 2,
      "outputs": [
        {
          "output_type": "stream",
          "name": "stdout",
          "text": [
            "7\n",
            "0.77\n"
          ]
        }
      ]
    },
    {
      "cell_type": "code",
      "source": [
        "import math\n",
        "\n",
        "class Circle:\n",
        "    def __init__(self, radius):\n",
        "        self.radius = radius\n",
        "\n",
        "    def getArea(self):\n",
        "        return math.pi * self.radius ** 2\n",
        "\n",
        "    def getPerimeter(self):\n",
        "        return 2 * math.pi * self.radius\n",
        "\n",
        "circle = Circle(5)\n",
        "print(\"Circle Area:\", circle.getArea())\n",
        "print(\"Circle Perimeter:\", circle.getPerimeter())\n"
      ],
      "metadata": {
        "colab": {
          "base_uri": "https://localhost:8080/"
        },
        "id": "_Z24AAOEMe7c",
        "outputId": "01ff392b-e12b-47fd-bc6c-6592f759049a"
      },
      "execution_count": 3,
      "outputs": [
        {
          "output_type": "stream",
          "name": "stdout",
          "text": [
            "Circle Area: 78.53981633974483\n",
            "Circle Perimeter: 31.41592653589793\n"
          ]
        }
      ]
    },
    {
      "cell_type": "code",
      "source": [
        "def sort_by_length(strings):\n",
        "    return sorted(strings, key=len)\n",
        "\n",
        "input_list = [\"Google\", \"Apple\", \"Microsoft\"]\n",
        "sorted_list = sort_by_length(input_list)\n",
        "print(sorted_list)\n"
      ],
      "metadata": {
        "colab": {
          "base_uri": "https://localhost:8080/"
        },
        "id": "9dBiaF78MsnW",
        "outputId": "03c825bf-336a-4049-d730-117058a7d1db"
      },
      "execution_count": 4,
      "outputs": [
        {
          "output_type": "stream",
          "name": "stdout",
          "text": [
            "['Apple', 'Google', 'Microsoft']\n"
          ]
        }
      ]
    },
    {
      "cell_type": "code",
      "source": [
        "def is_triplet(a, b, c):\n",
        "    a_squared = a ** 2\n",
        "    b_squared = b ** 2\n",
        "    c_squared = c ** 2\n",
        "\n",
        "    sum_of_squares = a_squared + b_squared if a_squared + b_squared >= a_squared + c_squared and a_squared + b_squared >= b_squared + c_squared else b_squared + c_squared if b_squared + c_squared >= a_squared + c_squared else a_squared + c_squared\n",
        "\n",
        "    return sum_of_squares == c_squared\n",
        "\n",
        "print(is_triplet(3, 4, 5))\n",
        "print(is_triplet(13, 5, 12))\n"
      ],
      "metadata": {
        "colab": {
          "base_uri": "https://localhost:8080/"
        },
        "id": "pfSMr3JLM6Rm",
        "outputId": "601d0bfd-243b-4f8c-bc25-7ca69eeab0fb"
      },
      "execution_count": 6,
      "outputs": [
        {
          "output_type": "stream",
          "name": "stdout",
          "text": [
            "False\n",
            "False\n"
          ]
        }
      ]
    },
    {
      "cell_type": "code",
      "source": [],
      "metadata": {
        "id": "avBnKFTcNKhX"
      },
      "execution_count": null,
      "outputs": []
    }
  ]
}