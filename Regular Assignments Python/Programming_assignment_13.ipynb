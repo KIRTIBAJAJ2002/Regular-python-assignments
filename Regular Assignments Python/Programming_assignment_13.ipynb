{
  "nbformat": 4,
  "nbformat_minor": 0,
  "metadata": {
    "colab": {
      "provenance": []
    },
    "kernelspec": {
      "name": "python3",
      "display_name": "Python 3"
    },
    "language_info": {
      "name": "python"
    }
  },
  "cells": [
    {
      "cell_type": "code",
      "execution_count": 3,
      "metadata": {
        "colab": {
          "base_uri": "https://localhost:8080/"
        },
        "id": "05CSZRTMD8zB",
        "outputId": "bcec6c78-59e4-4748-e63a-194c49e354b6"
      },
      "outputs": [
        {
          "output_type": "stream",
          "name": "stdout",
          "text": [
            "Enter the values of D (comma-separated): 100,150,180\n",
            "[18, 22, 24]\n"
          ]
        }
      ],
      "source": [
        "#1\n",
        "import math\n",
        "C=50\n",
        "H=30\n",
        "D = input(\"Enter the values of D (comma-separated): \").split(',')\n",
        "def calculate_value(D):\n",
        "    values=[]\n",
        "    for i in D:\n",
        "        Q = math.sqrt((2 * C * int(i)) / H)\n",
        "        values.append(int(Q))\n",
        "    return values\n",
        "\n",
        "result = calculate_value(D)\n",
        "print(result)"
      ]
    },
    {
      "cell_type": "code",
      "source": [
        "#2\n",
        "def generate_2d_array(X, Y):\n",
        "    array = [[0] * Y for _ in range(X)]\n",
        "    for i in range(X):\n",
        "        for j in range(Y):\n",
        "            array[i][j] = i * j\n",
        "    return array\n",
        "X, Y = map(int, input(\"Enter the values of X and Y (comma-separated): \").split(','))\n",
        "result = generate_2d_array(X, Y)\n",
        "print(result)\n",
        "\n"
      ],
      "metadata": {
        "colab": {
          "base_uri": "https://localhost:8080/"
        },
        "id": "PV7dTWARGDuR",
        "outputId": "46658a0a-c78e-4723-97de-2092909bf5fb"
      },
      "execution_count": 5,
      "outputs": [
        {
          "output_type": "stream",
          "name": "stdout",
          "text": [
            "Enter the values of X and Y (comma-separated): 15,4\n",
            "[[0, 0, 0, 0], [0, 1, 2, 3], [0, 2, 4, 6], [0, 3, 6, 9], [0, 4, 8, 12], [0, 5, 10, 15], [0, 6, 12, 18], [0, 7, 14, 21], [0, 8, 16, 24], [0, 9, 18, 27], [0, 10, 20, 30], [0, 11, 22, 33], [0, 12, 24, 36], [0, 13, 26, 39], [0, 14, 28, 42]]\n"
          ]
        }
      ]
    },
    {
      "cell_type": "code",
      "source": [
        "#3\n",
        "words = input(\"Enter the words (comma-separated): \").split(',')\n",
        "words.sort()\n",
        "result = ','.join(words)\n",
        "print(result)\n"
      ],
      "metadata": {
        "colab": {
          "base_uri": "https://localhost:8080/"
        },
        "id": "wr0d1FR_IhIZ",
        "outputId": "235458f8-6567-4fc0-df2e-f9658f17a602"
      },
      "execution_count": 7,
      "outputs": [
        {
          "output_type": "stream",
          "name": "stdout",
          "text": [
            "Enter the words (comma-separated): bag,interview,aim,selected\n",
            "aim,bag,interview,selected\n"
          ]
        }
      ]
    },
    {
      "cell_type": "code",
      "source": [
        "#4\n",
        "words = input(\"Enter the words (whitespace-separated): \").split()\n",
        "words = list(set(words))\n",
        "words.sort()\n",
        "result = ' '.join(words)\n",
        "print(result)\n"
      ],
      "metadata": {
        "colab": {
          "base_uri": "https://localhost:8080/"
        },
        "id": "_KWFsYG0I4__",
        "outputId": "a1f71be9-19da-4e2c-c232-528733ef74dc"
      },
      "execution_count": 8,
      "outputs": [
        {
          "output_type": "stream",
          "name": "stdout",
          "text": [
            "Enter the words (whitespace-separated): hello hello world and practice makes perfect and hello world again\n",
            "again and hello makes perfect practice world\n"
          ]
        }
      ]
    },
    {
      "cell_type": "code",
      "source": [
        "#5\n",
        "sentence = input(\"Enter the sentence: \")\n",
        "letters = sum(c.isalpha() for c in sentence)\n",
        "digits = sum(c.isdigit() for c in sentence)\n",
        "result = f\"LETTERS {letters}\\nDIGITS {digits}\"\n",
        "print(result)\n"
      ],
      "metadata": {
        "colab": {
          "base_uri": "https://localhost:8080/"
        },
        "id": "LK2ZbbDMJR0D",
        "outputId": "f1cb6c20-9727-465f-9f6d-aed5de6cc0b0"
      },
      "execution_count": 9,
      "outputs": [
        {
          "output_type": "stream",
          "name": "stdout",
          "text": [
            "Enter the sentence: hello world! 123\n",
            "LETTERS 10\n",
            "DIGITS 3\n"
          ]
        }
      ]
    },
    {
      "cell_type": "code",
      "source": [
        "#6\n",
        "import re\n",
        "def check_password(password):\n",
        "    if len(password)<6 or len(password)>12:\n",
        "        return False\n",
        "    if not re.search(r\"[a-z]\", password):\n",
        "         return False\n",
        "    if not re.search(r\"[A-Z]\", password):\n",
        "        return False\n",
        "    if not re.search(r\"\\d\", password):\n",
        "        return False\n",
        "    if not re.search(r\"[$#@]\", password):\n",
        "        return False\n",
        "    return True\n",
        "\n",
        "passwords = input(\"Enter the passwords (comma-separated): \").split(',')\n",
        "valid_passwords = [password for password in passwords if check_password(password)]\n",
        "result = ','.join(valid_passwords)\n",
        "print(result)"
      ],
      "metadata": {
        "colab": {
          "base_uri": "https://localhost:8080/"
        },
        "id": "CuODJnDYKU9s",
        "outputId": "059efd89-5e99-463c-9f1f-dd19bde24fc7"
      },
      "execution_count": 12,
      "outputs": [
        {
          "output_type": "stream",
          "name": "stdout",
          "text": [
            "Enter the passwords (comma-separated): ABd1234@1,a F1#,2w3E*,2We3345\n",
            "ABd1234@1\n"
          ]
        }
      ]
    },
    {
      "cell_type": "code",
      "source": [],
      "metadata": {
        "id": "0zpwzVOuLD6R"
      },
      "execution_count": null,
      "outputs": []
    }
  ]
}