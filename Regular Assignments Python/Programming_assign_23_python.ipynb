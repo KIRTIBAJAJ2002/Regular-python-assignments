{
  "nbformat": 4,
  "nbformat_minor": 0,
  "metadata": {
    "colab": {
      "provenance": []
    },
    "kernelspec": {
      "name": "python3",
      "display_name": "Python 3"
    },
    "language_info": {
      "name": "python"
    }
  },
  "cells": [
    {
      "cell_type": "code",
      "execution_count": null,
      "metadata": {
        "colab": {
          "base_uri": "https://localhost:8080/"
        },
        "id": "Mli0xEwhbYKQ",
        "outputId": "052d2bd1-d5c4-4005-b796-a009cde6f9f7"
      },
      "outputs": [
        {
          "output_type": "stream",
          "name": "stdout",
          "text": [
            "True\n"
          ]
        }
      ],
      "source": [
        "def is_symmetrical(s):\n",
        "    n=len(s)\n",
        "    left = 0\n",
        "    right = n-1\n",
        "    while left < right:\n",
        "        if s[left] != s[right] :\n",
        "            return False\n",
        "        left +=1\n",
        "        right -=1\n",
        "    return True\n",
        "result = is_symmetrical(\"7227\")\n",
        "print (result)"
      ]
    },
    {
      "cell_type": "code",
      "source": [
        "def multiply_nums(num_str):\n",
        "    nums = [int(num)for num in num_str.split(\",\")]\n",
        "    result = 1\n",
        "\n",
        "    for num in nums:\n",
        "\n",
        "        result *= num\n",
        "    return result\n",
        "\n",
        "num_str = \"3,2\"\n",
        "result = multiply_nums(num_str)\n",
        "print(result)\n"
      ],
      "metadata": {
        "colab": {
          "base_uri": "https://localhost:8080/"
        },
        "id": "7CVmtYKyd3YZ",
        "outputId": "02f106a3-3b18-43d4-8f38-8c26a093a038"
      },
      "execution_count": null,
      "outputs": [
        {
          "output_type": "stream",
          "name": "stdout",
          "text": [
            "6\n"
          ]
        }
      ]
    },
    {
      "cell_type": "code",
      "source": [
        "def square_digits(nums):\n",
        "    num_str = str(nums)\n",
        "\n",
        "    squared_digits =[]\n",
        "\n",
        "    for i in num_str:\n",
        "        squared_digits.append(int(i) **2 )\n",
        "\n",
        "    return int(''.join(map(str,squared_digits)))\n",
        "\n",
        "\n",
        "nums = (2457)\n",
        "result = square_digits(nums)\n",
        "print(result)"
      ],
      "metadata": {
        "colab": {
          "base_uri": "https://localhost:8080/"
        },
        "id": "SW-_uS68wQeY",
        "outputId": "6accff83-3e0a-4aad-e45f-8cf9f15f92e8"
      },
      "execution_count": null,
      "outputs": [
        {
          "output_type": "stream",
          "name": "stdout",
          "text": [
            "4162549\n"
          ]
        }
      ]
    },
    {
      "cell_type": "code",
      "source": [
        "def setify(nums):\n",
        "    unique_list = []\n",
        "    count = set()\n",
        "    for num in nums:\n",
        "        if num not in count:\n",
        "            count.add(num)\n",
        "            unique_list.append(num)\n",
        "\n",
        "    return unique_list\n",
        "\n",
        "nums = [1, 3, 3, 5, 5]\n",
        "result = setify(nums)\n",
        "print(result)"
      ],
      "metadata": {
        "id": "2J09xqBH-IUe",
        "colab": {
          "base_uri": "https://localhost:8080/",
          "height": 0
        },
        "outputId": "615ee93d-3755-43c8-ae21-bb528924956b"
      },
      "execution_count": 12,
      "outputs": [
        {
          "output_type": "stream",
          "name": "stdout",
          "text": [
            "[1, 3, 5]\n"
          ]
        }
      ]
    },
    {
      "cell_type": "code",
      "source": [
        "def mean_of_digits(num):\n",
        "    num_str = str(num)\n",
        "    if num == 0:\n",
        "        return 0\n",
        "\n",
        "    digits = [int(digit) for digit in num_str]\n",
        "    mean = sum(digits) / len(digits)\n",
        "    return int(mean)\n",
        "\n",
        "num = 245\n",
        "result = mean_of_digits(num)\n",
        "print(result)\n"
      ],
      "metadata": {
        "colab": {
          "base_uri": "https://localhost:8080/",
          "height": 0
        },
        "id": "KBRq6_0mxBLU",
        "outputId": "90714aca-7b55-495e-edea-b591fa97f24f"
      },
      "execution_count": 22,
      "outputs": [
        {
          "output_type": "stream",
          "name": "stdout",
          "text": [
            "3\n"
          ]
        }
      ]
    },
    {
      "cell_type": "code",
      "source": [],
      "metadata": {
        "id": "PxPc90AL0UFA"
      },
      "execution_count": null,
      "outputs": []
    }
  ]
}