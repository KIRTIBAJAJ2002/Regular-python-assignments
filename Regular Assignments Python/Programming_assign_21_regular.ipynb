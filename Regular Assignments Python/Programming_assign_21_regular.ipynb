{
  "nbformat": 4,
  "nbformat_minor": 0,
  "metadata": {
    "colab": {
      "provenance": []
    },
    "kernelspec": {
      "name": "python3",
      "display_name": "Python 3"
    },
    "language_info": {
      "name": "python"
    }
  },
  "cells": [
    {
      "cell_type": "code",
      "execution_count": 4,
      "metadata": {
        "colab": {
          "base_uri": "https://localhost:8080/"
        },
        "id": "0yi8oIVKwUjW",
        "outputId": "7c4b45d7-bda2-4539-c0e0-9c2fd2dd9257"
      },
      "outputs": [
        {
          "output_type": "stream",
          "name": "stdout",
          "text": [
            "<class 'list'>\n"
          ]
        }
      ],
      "source": [
        "def next_to_line(lst,number):\n",
        "    lst.append(number)\n",
        "    lst.pop(0)\n",
        "    return list\n",
        "\n",
        "print(next_to_line([5, 6, 7, 8, 9], 1))\n",
        "\n"
      ]
    },
    {
      "cell_type": "code",
      "source": [
        "def get_budgets(persons):\n",
        "    total_budget = 0\n",
        "    for person in persons:\n",
        "        total_budget += person[\"budget\"]\n",
        "    return total_budget\n",
        "persons = [\n",
        "    {\"name\": \"John\", \"age\": 21, \"budget\": 23000},\n",
        "    {\"name\": \"Steve\", \"age\": 32, \"budget\": 40000},\n",
        "    {\"name\": \"Martin\", \"age\": 16, \"budget\": 2700}\n",
        "]\n",
        "\n",
        "print(get_budgets(persons))\n",
        "\n"
      ],
      "metadata": {
        "colab": {
          "base_uri": "https://localhost:8080/"
        },
        "id": "MMIpMHKbxDgx",
        "outputId": "6420af50-f590-4af2-86e2-8e3fefbf0454"
      },
      "execution_count": 6,
      "outputs": [
        {
          "output_type": "stream",
          "name": "stdout",
          "text": [
            "65700\n"
          ]
        }
      ]
    },
    {
      "cell_type": "code",
      "source": [
        "def alphabet_soup(string):\n",
        "    sorted_string = ''.join(sorted(string))\n",
        "    return sorted_string\n"
      ],
      "metadata": {
        "id": "_177dlYA3-J3"
      },
      "execution_count": 7,
      "outputs": []
    },
    {
      "cell_type": "code",
      "source": [
        "def compound_interest(p, t, r, n):\n",
        "    amount = p * (1 + r/n)**(n*t)\n",
        "    rounded_amount = round(amount, 2)\n",
        "    return rounded_amount\n",
        "print(compound_interest(10000, 10, 0.06, 12))\n"
      ],
      "metadata": {
        "colab": {
          "base_uri": "https://localhost:8080/"
        },
        "id": "aXuvUJsW4QUw",
        "outputId": "eba33111-18fe-4de1-ffac-113fd601d191"
      },
      "execution_count": 8,
      "outputs": [
        {
          "output_type": "stream",
          "name": "stdout",
          "text": [
            "18193.97\n"
          ]
        }
      ]
    },
    {
      "cell_type": "code",
      "source": [
        "def return_only_integer(elements):\n",
        "    integers = [x for x in elements if isinstance(x, int)]\n",
        "    return integers\n"
      ],
      "metadata": {
        "id": "jIuOOKtk4esC"
      },
      "execution_count": 9,
      "outputs": []
    },
    {
      "cell_type": "code",
      "source": [],
      "metadata": {
        "id": "K8AKsdqw4ygg"
      },
      "execution_count": null,
      "outputs": []
    }
  ]
}