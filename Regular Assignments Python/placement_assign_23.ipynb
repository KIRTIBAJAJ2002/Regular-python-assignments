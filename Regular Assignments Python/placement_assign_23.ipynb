{
  "nbformat": 4,
  "nbformat_minor": 0,
  "metadata": {
    "colab": {
      "provenance": []
    },
    "kernelspec": {
      "name": "python3",
      "display_name": "Python 3"
    },
    "language_info": {
      "name": "python"
    }
  },
  "cells": [
    {
      "cell_type": "code",
      "execution_count": 1,
      "metadata": {
        "colab": {
          "base_uri": "https://localhost:8080/"
        },
        "id": "MIkPfkSb8dmI",
        "outputId": "cc2b52e1-2de9-42fd-93ff-227e56ce42ef"
      },
      "outputs": [
        {
          "output_type": "stream",
          "name": "stdout",
          "text": [
            "1\n"
          ]
        }
      ],
      "source": [
        "#1\n",
        "def calculate_depth(preorder):\n",
        "    depth = 0\n",
        "    for char in preorder:\n",
        "        if char == 'n':\n",
        "            depth += 1\n",
        "        else:\n",
        "            break\n",
        "    return depth\n",
        "\n",
        "preorder = 'nlnll'\n",
        "depth = calculate_depth(preorder)\n",
        "print(depth)\n"
      ]
    },
    {
      "cell_type": "code",
      "source": [
        "#2\n",
        "class TreeNode:\n",
        "    def __init__(self, value):\n",
        "        self.value = value\n",
        "        self.left = None\n",
        "        self.right = None\n",
        "\n",
        "def left_view(root):\n",
        "    if root is None:\n",
        "        return\n",
        "\n",
        "    result = []\n",
        "    queue = [root]\n",
        "\n",
        "    while queue:\n",
        "        size = len(queue)\n",
        "\n",
        "        for i in range(size):\n",
        "            node = queue.pop(0)\n",
        "\n",
        "            if i == 0:\n",
        "                result.append(node.value)\n",
        "\n",
        "            if node.left:\n",
        "                queue.append(node.left)\n",
        "\n",
        "            if node.right:\n",
        "                queue.append(node.right)\n",
        "\n",
        "    return result\n",
        "\n",
        "root = TreeNode(4)\n",
        "root.left = TreeNode(5)\n",
        "root.right = TreeNode(2)\n",
        "root.right.left = TreeNode(3)\n",
        "root.right.right = TreeNode(1)\n",
        "root.right.left.left = TreeNode(6)\n",
        "root.right.left.right = TreeNode(7)\n",
        "\n",
        "left_view_nodes = left_view(root)\n",
        "print(*left_view_nodes)\n"
      ],
      "metadata": {
        "colab": {
          "base_uri": "https://localhost:8080/"
        },
        "id": "CcyxJ7JW8wuT",
        "outputId": "5877077b-202d-4fcc-d525-113d008094e5"
      },
      "execution_count": 2,
      "outputs": [
        {
          "output_type": "stream",
          "name": "stdout",
          "text": [
            "4 5 3 6\n"
          ]
        }
      ]
    },
    {
      "cell_type": "code",
      "source": [
        "#3\n",
        "class TreeNode:\n",
        "    def __init__(self, value):\n",
        "        self.value = value\n",
        "        self.left = None\n",
        "        self.right = None\n",
        "\n",
        "def right_view(root):\n",
        "    if root is None:\n",
        "        return\n",
        "\n",
        "    result = []\n",
        "    queue = [root]\n",
        "\n",
        "    while queue:\n",
        "        size = len(queue)\n",
        "\n",
        "        for i in range(size):\n",
        "            node = queue.pop(0)\n",
        "\n",
        "            if i == size - 1:\n",
        "                result.append(node.value)\n",
        "\n",
        "            if node.left:\n",
        "                queue.append(node.left)\n",
        "\n",
        "            if node.right:\n",
        "                queue.append(node.right)\n",
        "\n",
        "    return result\n",
        "\n",
        "root = TreeNode(1)\n",
        "root.left = TreeNode(2)\n",
        "root.right = TreeNode(3)\n",
        "root.left.left = TreeNode(4)\n",
        "root.left.right = TreeNode(5)\n",
        "root.right.left = TreeNode(6)\n",
        "root.right.right = TreeNode(7)\n",
        "root.right.right.right = TreeNode(8)\n",
        "\n",
        "right_view_nodes = right_view(root)\n",
        "print(*right_view_nodes)\n"
      ],
      "metadata": {
        "colab": {
          "base_uri": "https://localhost:8080/"
        },
        "id": "HPFWEcMH8z49",
        "outputId": "a165aa35-dce4-4708-fa23-8a417e746970"
      },
      "execution_count": 3,
      "outputs": [
        {
          "output_type": "stream",
          "name": "stdout",
          "text": [
            "1 3 7 8\n"
          ]
        }
      ]
    },
    {
      "cell_type": "code",
      "source": [
        "#4\n",
        "from collections import defaultdict\n",
        "\n",
        "class TreeNode:\n",
        "    def __init__(self, value):\n",
        "        self.value = value\n",
        "        self.left = None\n",
        "        self.right = None\n",
        "\n",
        "def bottom_view(root):\n",
        "    if root is None:\n",
        "        return []\n",
        "\n",
        "    result = []\n",
        "    queue = [(root, 0)]\n",
        "    node_hd_map = defaultdict(TreeNode)\n",
        "\n",
        "    while queue:\n",
        "        node, hd = queue.pop(0)\n",
        "\n",
        "        node_hd_map[hd] = node\n",
        "\n",
        "        if node.left:\n",
        "            queue.append((node.left, hd - 1))\n",
        "\n",
        "        if node.right:\n",
        "            queue.append((node.right, hd + 1))\n",
        "\n",
        "    sorted_hds = sorted(node_hd_map.keys())\n",
        "\n",
        "    for hd in sorted_hds:\n",
        "        result.append(node_hd_map[hd].value)\n",
        "\n",
        "    return result\n",
        "\n",
        "# Create the binary tree\n",
        "root = TreeNode(20)\n",
        "root.left = TreeNode(8)\n",
        "root.right = TreeNode(22)\n",
        "root.left.left = TreeNode(5)\n",
        "root.left.right = TreeNode(3)\n",
        "root.right.right = TreeNode(25)\n",
        "root.left.right.left = TreeNode(10)\n",
        "root.left.right.right = TreeNode(14)\n",
        "\n",
        "bottom_view_nodes = bottom_view(root)\n",
        "print(*bottom_view_nodes)\n"
      ],
      "metadata": {
        "colab": {
          "base_uri": "https://localhost:8080/"
        },
        "id": "NMAPOQw583NF",
        "outputId": "33c7ea65-33e5-484f-9209-05ff88549bdf"
      },
      "execution_count": 4,
      "outputs": [
        {
          "output_type": "stream",
          "name": "stdout",
          "text": [
            "5 10 3 14 25\n"
          ]
        }
      ]
    },
    {
      "cell_type": "code",
      "source": [],
      "metadata": {
        "id": "4XAWDwT_86T0"
      },
      "execution_count": null,
      "outputs": []
    }
  ]
}