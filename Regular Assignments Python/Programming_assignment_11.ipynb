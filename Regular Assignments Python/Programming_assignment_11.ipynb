{
  "nbformat": 4,
  "nbformat_minor": 0,
  "metadata": {
    "colab": {
      "provenance": []
    },
    "kernelspec": {
      "name": "python3",
      "display_name": "Python 3"
    },
    "language_info": {
      "name": "python"
    }
  },
  "cells": [
    {
      "cell_type": "markdown",
      "source": [
        "Write a Python program to find words which are greater than given length k?"
      ],
      "metadata": {
        "id": "KQRhpYRN1Nxa"
      }
    },
    {
      "cell_type": "code",
      "execution_count": 6,
      "metadata": {
        "colab": {
          "base_uri": "https://localhost:8080/"
        },
        "id": "9z-GwmkJxZZi",
        "outputId": "3ca0a612-4b2f-47e4-fe3a-5f976b67229a"
      },
      "outputs": [
        {
          "output_type": "stream",
          "name": "stdout",
          "text": [
            "['quick', 'brown', 'jumps']\n"
          ]
        }
      ],
      "source": [
        "def find_greatest(str,k):\n",
        "    words = string.split()\n",
        "    result =[ word for word in words if  len(word) > k ]\n",
        "    return result\n",
        "\n",
        "string = \"The quick brown fox jumps over the lazy dog\"\n",
        "k = 4\n",
        "words_greater_than_k = find_greatest(str, k)\n",
        "print(words_greater_than_k)"
      ]
    },
    {
      "cell_type": "markdown",
      "source": [
        "2. Write a Python program for removing i-th character from a string?"
      ],
      "metadata": {
        "id": "_Dvb6DVT8Hs9"
      }
    },
    {
      "cell_type": "code",
      "source": [
        "def remove_char(string , ith):\n",
        "    if i < 0 or i >len(string):\n",
        "        return string\n",
        "    else:\n",
        "         result = string[:i] + string[i + 1:]   #it creates a new string result by concatenating the characters\n",
        "                                                #before the i-th position (string[:i]) with the characters after the i-th position (string[i + 1:]).\n",
        "    return result\n",
        "\n",
        "string = \"Hello World\"\n",
        "i = 4\n",
        "modified_string = remove_char(string, i)\n",
        "print(modified_string)"
      ],
      "metadata": {
        "colab": {
          "base_uri": "https://localhost:8080/"
        },
        "id": "eI5eGNHu8HM_",
        "outputId": "105517b5-2669-44ff-b469-72d1fdc4a5ca"
      },
      "execution_count": 8,
      "outputs": [
        {
          "output_type": "stream",
          "name": "stdout",
          "text": [
            "Hell World\n"
          ]
        }
      ]
    },
    {
      "cell_type": "markdown",
      "source": [
        "Write a Python program to split and join a string?"
      ],
      "metadata": {
        "id": "R114qdHu9hsa"
      }
    },
    {
      "cell_type": "code",
      "source": [
        "def split_it(string,delimeter):\n",
        "    words = string.split(delimeter)\n",
        "    result = \"-\".join(words)\n",
        "    return result\n",
        "\n",
        "string = \"Hello,how,are,you?\"\n",
        "delimiter = \",\"\n",
        "joined_string = split_it(string, delimiter)\n",
        "print(joined_string)"
      ],
      "metadata": {
        "colab": {
          "base_uri": "https://localhost:8080/"
        },
        "id": "fMqLIyHoxp8X",
        "outputId": "458e5fcb-ea71-4457-92c0-0fc4a3af4e18"
      },
      "execution_count": 9,
      "outputs": [
        {
          "output_type": "stream",
          "name": "stdout",
          "text": [
            "Hello-how-are-you?\n"
          ]
        }
      ]
    },
    {
      "cell_type": "markdown",
      "source": [
        "Write a Python to check if a given string is binary string or not?"
      ],
      "metadata": {
        "id": "wkg9PtFg-Yo_"
      }
    },
    {
      "cell_type": "code",
      "source": [
        "def is_binary(string):\n",
        "    for char in string :\n",
        "        if char != '0' and char != '1':\n",
        "            return False\n",
        "    return True\n",
        "string = \"101010\"\n",
        "is_binary = is_binary(string)\n",
        "print(is_binary)"
      ],
      "metadata": {
        "colab": {
          "base_uri": "https://localhost:8080/"
        },
        "id": "qhGROBbQ764z",
        "outputId": "fbe80e42-a80d-42c3-b2b2-940cebdb1f63"
      },
      "execution_count": 16,
      "outputs": [
        {
          "output_type": "stream",
          "name": "stdout",
          "text": [
            "True\n"
          ]
        }
      ]
    },
    {
      "cell_type": "markdown",
      "source": [
        "Write a Python program to find uncommon words from two strings?"
      ],
      "metadata": {
        "id": "yVtOKSBE_T9G"
      }
    },
    {
      "cell_type": "code",
      "source": [
        "def uncommon_word(str1,str2):\n",
        "    words1 = str1.split()\n",
        "    words2 = str2.split()\n",
        "    uncommon_words = [word for word in words1 + words2 if word not in words1 or word not in words2]\n",
        "    return uncommon_words\n",
        "str1 = \"The quick brown fox\"\n",
        "str2 = \"The lazy dog\"\n",
        "uncommon_words = uncommon_word(str1, str2)\n",
        "print(uncommon_words)"
      ],
      "metadata": {
        "colab": {
          "base_uri": "https://localhost:8080/"
        },
        "id": "V9nKKCZ0-y-S",
        "outputId": "49e40133-013f-4c89-b2b3-6e8adddc5220"
      },
      "execution_count": 17,
      "outputs": [
        {
          "output_type": "stream",
          "name": "stdout",
          "text": [
            "['quick', 'brown', 'fox', 'lazy', 'dog']\n"
          ]
        }
      ]
    },
    {
      "cell_type": "markdown",
      "source": [
        "Write a Python program to find all duplicate characters in a string?"
      ],
      "metadata": {
        "id": "rzajWqKcA63N"
      }
    },
    {
      "cell_type": "code",
      "source": [
        "def is_duplicate(string):\n",
        "    char_count={}\n",
        "    duplicate_chars= []\n",
        "\n",
        "    for i in string :\n",
        "        if i in char_count:\n",
        "            char_count[i] += 1\n",
        "        else:\n",
        "            char_count[i] =1\n",
        "\n",
        "    for char, count in char_count.items():\n",
        "        if count > 1:\n",
        "            duplicate_chars.append(char)\n",
        "\n",
        "    return duplicate_chars\n",
        "\n",
        "string = \"Hello World\"\n",
        "duplicate = is_duplicate(string)\n",
        "print(duplicate)"
      ],
      "metadata": {
        "colab": {
          "base_uri": "https://localhost:8080/"
        },
        "id": "h79gzc0cAO9L",
        "outputId": "10a08bb2-baf2-495f-e108-265509669c6e"
      },
      "execution_count": 21,
      "outputs": [
        {
          "output_type": "stream",
          "name": "stdout",
          "text": [
            "['l', 'o']\n"
          ]
        }
      ]
    },
    {
      "cell_type": "markdown",
      "source": [
        "Write a Python program to check if a string contains any special characters?"
      ],
      "metadata": {
        "id": "rdRpCRIZDiuh"
      }
    },
    {
      "cell_type": "code",
      "source": [
        "import re\n",
        "\n",
        "def contains_special_characters(string):\n",
        "    pattern = r'[^\\w\\s]'\n",
        "    match = re.search(pattern, string)\n",
        "    return match is not None\n",
        "\n",
        "string = \"Hello World!\"\n",
        "contains_special = contains_special_characters(string)\n",
        "print(contains_special)\n"
      ],
      "metadata": {
        "colab": {
          "base_uri": "https://localhost:8080/"
        },
        "id": "7hNewavkCt55",
        "outputId": "d6396d02-57b1-4a18-bf93-acbe82e9e372"
      },
      "execution_count": 22,
      "outputs": [
        {
          "output_type": "stream",
          "name": "stdout",
          "text": [
            "True\n"
          ]
        }
      ]
    },
    {
      "cell_type": "code",
      "source": [],
      "metadata": {
        "id": "xNLHRcPNDtG-"
      },
      "execution_count": null,
      "outputs": []
    }
  ]
}