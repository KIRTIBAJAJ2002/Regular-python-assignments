{
  "nbformat": 4,
  "nbformat_minor": 0,
  "metadata": {
    "colab": {
      "provenance": []
    },
    "kernelspec": {
      "name": "python3",
      "display_name": "Python 3"
    },
    "language_info": {
      "name": "python"
    }
  },
  "cells": [
    {
      "cell_type": "code",
      "execution_count": 1,
      "metadata": {
        "colab": {
          "base_uri": "https://localhost:8080/"
        },
        "id": "boMk6ZM56VR0",
        "outputId": "da21f24d-bd00-414d-fd3c-bcfe5ccb61ec"
      },
      "outputs": [
        {
          "output_type": "stream",
          "name": "stdout",
          "text": [
            "2 2 4 2 4 "
          ]
        }
      ],
      "source": [
        "class TreeNode:\n",
        "    def __init__(self, value):\n",
        "        self.value = value\n",
        "        self.left = None\n",
        "        self.right = None\n",
        "\n",
        "def convert_binary_tree_to_bst(root):\n",
        "    node_values = []\n",
        "    in_order_traversal(root, node_values)\n",
        "\n",
        "    node_values.sort()\n",
        "\n",
        "    index = 0\n",
        "    replace_values(root, node_values, index)\n",
        "\n",
        "def in_order_traversal(node, values):\n",
        "    if node:\n",
        "        in_order_traversal(node.left, values)\n",
        "        values.append(node.value)\n",
        "        in_order_traversal(node.right, values)\n",
        "\n",
        "def replace_values(node, values, index):\n",
        "    if node:\n",
        "        replace_values(node.left, values, index)\n",
        "        node.value = values[index]\n",
        "        index += 1\n",
        "        replace_values(node.right, values, index)\n",
        "\n",
        "root = TreeNode(10)\n",
        "root.left = TreeNode(2)\n",
        "root.right = TreeNode(7)\n",
        "root.left.left = TreeNode(8)\n",
        "root.left.right = TreeNode(4)\n",
        "\n",
        "convert_binary_tree_to_bst(root)\n",
        "\n",
        "def in_order_traversal_print(node):\n",
        "    if node:\n",
        "        in_order_traversal_print(node.left)\n",
        "        print(node.value, end=\" \")\n",
        "        in_order_traversal_print(node.right)\n",
        "\n",
        "in_order_traversal_print(root)\n"
      ]
    },
    {
      "cell_type": "code",
      "source": [
        "class TreeNode:\n",
        "    def __init__(self, value):\n",
        "        self.value = value\n",
        "        self.left = None\n",
        "        self.right = None\n",
        "\n",
        "def find_distance_between_nodes(root, node1, node2):\n",
        "    lca = find_lca(root, node1, node2)\n",
        "    distance1 = find_distance_from_node(lca, node1)\n",
        "    distance2 = find_distance_from_node(lca, node2)\n",
        "    distance = distance1 + distance2\n",
        "    return distance\n",
        "\n",
        "def find_lca(root, node1, node2):\n",
        "    if root is None or root.value == node1 or root.value == node2:\n",
        "        return root\n",
        "\n",
        "    if node1 < root.value and node2 < root.value:\n",
        "        return find_lca(root.left, node1, node2)\n",
        "\n",
        "    if node1 > root.value and node2 > root.value:\n",
        "        return find_lca(root.right, node1, node2)\n",
        "\n",
        "    return root\n",
        "\n",
        "def find_distance_from_node(node, target):\n",
        "    distance = 0\n",
        "    while node.value != target:\n",
        "        if target < node.value:\n",
        "            node = node.left\n",
        "        else:\n",
        "            node = node.right\n",
        "        distance += 1\n",
        "    return distance\n",
        "\n",
        "root = TreeNode(8)\n",
        "root.left = TreeNode(3)\n",
        "root.right = TreeNode(10)\n",
        "root.left.left = TreeNode(1)\n",
        "root.left.right = TreeNode(6)\n",
        "root.left.right.left = TreeNode(4)\n",
        "root.left.right.right = TreeNode(7)\n",
        "root.right.right = TreeNode(14)\n",
        "root.right.right.left = TreeNode(13)\n",
        "\n",
        "node1 = 4\n",
        "node2 = 13\n",
        "\n",
        "distance = find_distance_between_nodes(root, node1, node2)\n",
        "print(\"Distance between\", node1, \"and\", node2, \"is\", distance)\n"
      ],
      "metadata": {
        "colab": {
          "base_uri": "https://localhost:8080/"
        },
        "id": "YkYn-Y0r6kOQ",
        "outputId": "fa38deea-89b5-49ec-a22e-8b11d0be8f14"
      },
      "execution_count": 2,
      "outputs": [
        {
          "output_type": "stream",
          "name": "stdout",
          "text": [
            "Distance between 4 and 13 is 6\n"
          ]
        }
      ]
    },
    {
      "cell_type": "code",
      "source": [
        "#3\n",
        "class TreeNode:\n",
        "    def __init__(self, value):\n",
        "        self.value = value\n",
        "        self.left = None\n",
        "        self.right = None\n",
        "\n",
        "class DoublyLinkedListNode:\n",
        "    def __init__(self, value):\n",
        "        self.value = value\n",
        "        self.prev = None\n",
        "        self.next = None\n",
        "\n",
        "def binary_tree_to_doubly_linked_list(root):\n",
        "    prev_node = None\n",
        "\n",
        "    # Convert binary tree to doubly linked list\n",
        "    def convert(node):\n",
        "        nonlocal prev_node\n",
        "\n",
        "        if node is None:\n",
        "            return None\n",
        "\n",
        "        # Convert left subtree\n",
        "        head = convert(node.left)\n",
        "        node.left = prev_node\n",
        "\n",
        "        if prev_node is not None:\n",
        "            prev_node.right = node\n",
        "\n",
        "        prev_node = node\n",
        "\n",
        "        tail = convert(node.right)\n",
        "\n",
        "        node.right = tail\n",
        "\n",
        "        if tail is not None:\n",
        "            tail.left = node\n",
        "\n",
        "        return head if head is not None else node\n",
        "\n",
        "    head = convert(root)\n",
        "\n",
        "    return head\n",
        "\n",
        "root = TreeNode(10)\n",
        "root.left = TreeNode(5)\n",
        "root.right = TreeNode(20)\n",
        "root.right.left = TreeNode(30)\n",
        "root.right.right = TreeNode(35)\n",
        "\n",
        "head = binary_tree_to_doubly_linked_list(root)\n",
        "\n",
        "def print_doubly_linked_list(head):\n",
        "    if head is None:\n",
        "        return\n",
        "\n",
        "    node = head\n",
        "    while node:\n",
        "        print(node.value, end=\" \")\n",
        "        node = node.right\n",
        "\n",
        "print_doubly_linked_list(head)\n"
      ],
      "metadata": {
        "colab": {
          "base_uri": "https://localhost:8080/"
        },
        "id": "0H2voXjs6t-j",
        "outputId": "8dd805cb-f3ce-4beb-b289-d4b691f37750"
      },
      "execution_count": 4,
      "outputs": [
        {
          "output_type": "stream",
          "name": "stdout",
          "text": [
            "5 10 30 20 35 "
          ]
        }
      ]
    },
    {
      "cell_type": "code",
      "source": [
        "#4\n",
        "class TreeNode:\n",
        "    def __init__(self, value):\n",
        "        self.value = value\n",
        "        self.left = None\n",
        "        self.right = None\n",
        "        self.next = None\n",
        "\n",
        "def connect_nodes_at_same_level(root):\n",
        "    if root is None:\n",
        "        return None\n",
        "\n",
        "    queue = [root]\n",
        "    while queue:\n",
        "        size = len(queue)\n",
        "\n",
        "        for i in range(size):\n",
        "            node = queue.pop(0)\n",
        "\n",
        "            if i < size - 1:\n",
        "                node.next = queue[0]\n",
        "\n",
        "            if node.left:\n",
        "                queue.append(node.left)\n",
        "            if node.right:\n",
        "                queue.append(node.right)\n",
        "\n",
        "    return root\n",
        "\n",
        "root = TreeNode(1)\n",
        "root.left = TreeNode(2)\n",
        "root.right = TreeNode(3)\n",
        "root.left.left = TreeNode(4)\n",
        "root.left.right = TreeNode(5)\n",
        "root.right.left = TreeNode(6)\n",
        "root.right.right = TreeNode(7)\n",
        "\n",
        "connect_nodes_at_same_level(root)\n",
        "\n",
        "def print_connections(root):\n",
        "    if root is None:\n",
        "        return\n",
        "\n",
        "    node = root\n",
        "    while node:\n",
        "        current = node\n",
        "        while current:\n",
        "            print(current.value, end=\" \")\n",
        "            current = current.next\n",
        "        print()\n",
        "        node = node.left\n",
        "\n",
        "print_connections(root)\n"
      ],
      "metadata": {
        "colab": {
          "base_uri": "https://localhost:8080/"
        },
        "id": "LvtNbcUt67bW",
        "outputId": "e3c7f41d-4cab-4991-bea6-d24ce84241b9"
      },
      "execution_count": 6,
      "outputs": [
        {
          "output_type": "stream",
          "name": "stdout",
          "text": [
            "1 \n",
            "2 3 \n",
            "4 5 6 7 \n"
          ]
        }
      ]
    },
    {
      "cell_type": "code",
      "source": [],
      "metadata": {
        "id": "ENoXGrjt7Fwl"
      },
      "execution_count": null,
      "outputs": []
    }
  ]
}