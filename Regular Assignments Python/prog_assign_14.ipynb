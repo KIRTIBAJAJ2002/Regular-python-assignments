{
  "nbformat": 4,
  "nbformat_minor": 0,
  "metadata": {
    "colab": {
      "provenance": []
    },
    "kernelspec": {
      "name": "python3",
      "display_name": "Python 3"
    },
    "language_info": {
      "name": "python"
    }
  },
  "cells": [
    {
      "cell_type": "code",
      "execution_count": 1,
      "metadata": {
        "colab": {
          "base_uri": "https://localhost:8080/"
        },
        "id": "lLzqdxFqTBVZ",
        "outputId": "235c5869-6056-40b8-e4cc-885380aafe2f"
      },
      "outputs": [
        {
          "output_type": "stream",
          "name": "stdout",
          "text": [
            "Enter a value for n: 54\n",
            "0, 7, 14, 21, 28, 35, 42, 49, "
          ]
        }
      ],
      "source": [
        "class DivisibleBySevenGenerator:\n",
        "    def __init__(self, n):\n",
        "        self.n = n\n",
        "\n",
        "    def generate(self):\n",
        "        for num in range(self.n + 1):\n",
        "            if num % 7 == 0:\n",
        "                yield num\n",
        "\n",
        "# Get input from the user\n",
        "n = int(input(\"Enter a value for n: \"))\n",
        "\n",
        "generator = DivisibleBySevenGenerator(n)\n",
        "\n",
        "for num in generator.generate():\n",
        "    print(num, end=\", \")\n"
      ]
    },
    {
      "cell_type": "code",
      "source": [
        "from collections import Counter\n",
        "\n",
        "input_text = input(\"Enter a sentence: \")\n",
        "\n",
        "word_freq = Counter(input_text.split())\n",
        "\n",
        "sorted_keys = sorted(word_freq.keys())\n",
        "\n",
        "for key in sorted_keys:\n",
        "    print(f\"{key}:{word_freq[key]}\")\n"
      ],
      "metadata": {
        "colab": {
          "base_uri": "https://localhost:8080/"
        },
        "id": "UHMudniCVymh",
        "outputId": "830f715c-0c9e-4bbc-f191-392f5b991e2c"
      },
      "execution_count": 2,
      "outputs": [
        {
          "output_type": "stream",
          "name": "stdout",
          "text": [
            "Enter a sentence: 45\n",
            "45:1\n"
          ]
        }
      ]
    },
    {
      "cell_type": "code",
      "source": [
        "class Person:\n",
        "    def getGender(self):\n",
        "        return \"Unknown\"\n",
        "\n",
        "class Male(Person):\n",
        "    def getGender(self):\n",
        "        return \"Male\"\n",
        "\n",
        "class Female(Person):\n",
        "    def getGender(self):\n",
        "        return \"Female\"\n",
        "\n",
        "person = Person()\n",
        "male = Male()\n",
        "female = Female()\n",
        "\n",
        "print(person.getGender())\n",
        "print(male.getGender())\n",
        "print(female.getGender())\n"
      ],
      "metadata": {
        "colab": {
          "base_uri": "https://localhost:8080/"
        },
        "id": "6AX1jOFLV1wi",
        "outputId": "f2c9b3a2-162f-4444-cc29-3124ab07d397"
      },
      "execution_count": 3,
      "outputs": [
        {
          "output_type": "stream",
          "name": "stdout",
          "text": [
            "Unknown\n",
            "Male\n",
            "Female\n"
          ]
        }
      ]
    },
    {
      "cell_type": "code",
      "source": [
        "subjects = [\"I\", \"You\"]\n",
        "verbs = [\"Play\", \"Love\"]\n",
        "objects = [\"Hockey\", \"Football\"]\n",
        "\n",
        "sentences = [(subject, verb, obj) for subject in subjects for verb in verbs for obj in objects]\n",
        "for sentence in sentences:\n",
        "    print(' '.join(sentence))\n"
      ],
      "metadata": {
        "colab": {
          "base_uri": "https://localhost:8080/"
        },
        "id": "N5MjLhwmWEhj",
        "outputId": "692beb6c-e605-44b6-f0dd-7740160eb456"
      },
      "execution_count": 4,
      "outputs": [
        {
          "output_type": "stream",
          "name": "stdout",
          "text": [
            "I Play Hockey\n",
            "I Play Football\n",
            "I Love Hockey\n",
            "I Love Football\n",
            "You Play Hockey\n",
            "You Play Football\n",
            "You Love Hockey\n",
            "You Love Football\n"
          ]
        }
      ]
    },
    {
      "cell_type": "code",
      "source": [
        "import zlib\n",
        "\n",
        "text = \"hello world!hello world!hello world!hello world!\"\n",
        "compressed = zlib.compress(text.encode())\n",
        "decompressed = zlib.decompress(compressed).decode()\n",
        "\n",
        "print(\"Original:\", text)\n",
        "print(\"Compressed:\", compressed)\n",
        "print(\"Decompressed:\", decompressed)\n"
      ],
      "metadata": {
        "colab": {
          "base_uri": "https://localhost:8080/"
        },
        "id": "B6szjUPrWJkL",
        "outputId": "314607c9-49af-438d-9922-abcc5b5c6c07"
      },
      "execution_count": 5,
      "outputs": [
        {
          "output_type": "stream",
          "name": "stdout",
          "text": [
            "Original: hello world!hello world!hello world!hello world!\n",
            "Compressed: b'x\\x9c\\xcbH\\xcd\\xc9\\xc9W(\\xcf/\\xcaIQ\\xcc \\x82\\r\\x00\\xbd[\\x11\\xf5'\n",
            "Decompressed: hello world!hello world!hello world!hello world!\n"
          ]
        }
      ]
    },
    {
      "cell_type": "code",
      "source": [
        "def binary_search(arr, target):\n",
        "    left, right = 0, len(arr) - 1\n",
        "    while left <= right:\n",
        "        mid = (left + right) // 2\n",
        "        if arr[mid] == target:\n",
        "            return mid\n",
        "        elif arr[mid] < target:\n",
        "            left = mid + 1\n",
        "        else:\n",
        "            right = mid - 1\n",
        "    return -1\n",
        "\n",
        "sorted_list = [1, 3, 5, 7, 9, 11, 13, 15, 17, 19]\n",
        "target = 7\n",
        "result = binary_search(sorted_list, target)\n",
        "print(f\"Index of {target}: {result}\")\n"
      ],
      "metadata": {
        "colab": {
          "base_uri": "https://localhost:8080/"
        },
        "id": "twBZ_GUcWLCY",
        "outputId": "3879caf8-2089-4055-8bb2-5981a13fd6f8"
      },
      "execution_count": 6,
      "outputs": [
        {
          "output_type": "stream",
          "name": "stdout",
          "text": [
            "Index of 7: 3\n"
          ]
        }
      ]
    },
    {
      "cell_type": "code",
      "source": [],
      "metadata": {
        "id": "5GLWPZSaWNna"
      },
      "execution_count": null,
      "outputs": []
    }
  ]
}