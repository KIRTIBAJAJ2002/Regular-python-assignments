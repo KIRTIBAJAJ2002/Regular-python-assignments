{
  "nbformat": 4,
  "nbformat_minor": 0,
  "metadata": {
    "colab": {
      "provenance": []
    },
    "kernelspec": {
      "name": "python3",
      "display_name": "Python 3"
    },
    "language_info": {
      "name": "python"
    }
  },
  "cells": [
    {
      "cell_type": "code",
      "execution_count": 1,
      "metadata": {
        "colab": {
          "base_uri": "https://localhost:8080/"
        },
        "id": "bWSqgir6Wh_k",
        "outputId": "6585d102-7334-4243-eb80-87c0f810de6b"
      },
      "outputs": [
        {
          "output_type": "stream",
          "name": "stdout",
          "text": [
            "Enter a number: 54\n",
            "54 is not a Disarium Number\n"
          ]
        }
      ],
      "source": [
        "def is_disarium_number(number):\n",
        "    num_str = str(number)\n",
        "    disarium_sum = sum(int(digit) ** (i + 1) for i, digit in enumerate(num_str))\n",
        "    return disarium_sum == number\n",
        "\n",
        "# Test the function\n",
        "num = int(input(\"Enter a number: \"))\n",
        "if is_disarium_number(num):\n",
        "    print(f\"{num} is a Disarium Number\")\n",
        "else:\n",
        "    print(f\"{num} is not a Disarium Number\")\n"
      ]
    },
    {
      "cell_type": "code",
      "source": [
        "def find_disarium_numbers(start, end):\n",
        "    disarium_numbers = [num for num in range(start, end + 1) if is_disarium_number(num)]\n",
        "    return disarium_numbers\n",
        "\n",
        "disarium_numbers = find_disarium_numbers(1, 100)\n",
        "print(\"Disarium Numbers between 1 and 100:\", disarium_numbers)\n"
      ],
      "metadata": {
        "colab": {
          "base_uri": "https://localhost:8080/"
        },
        "id": "MTa1v7R1e-Ga",
        "outputId": "6d117515-4008-434c-8e64-e278cb1b90ad"
      },
      "execution_count": 2,
      "outputs": [
        {
          "output_type": "stream",
          "name": "stdout",
          "text": [
            "Disarium Numbers between 1 and 100: [1, 2, 3, 4, 5, 6, 7, 8, 9, 89]\n"
          ]
        }
      ]
    },
    {
      "cell_type": "code",
      "source": [
        "def is_happy_number(number):\n",
        "    seen = set()\n",
        "    while number != 1 and number not in seen:\n",
        "        seen.add(number)\n",
        "        square_sum = sum(int(digit) ** 2 for digit in str(number))\n",
        "        number = square_sum\n",
        "    return number == 1\n",
        "\n",
        "# Test the function\n",
        "num = int(input(\"Enter a number: \"))\n",
        "if is_happy_number(num):\n",
        "    print(f\"{num} is a Happy Number\")\n",
        "else:\n",
        "    print(f\"{num} is not a Happy Number\")\n"
      ],
      "metadata": {
        "colab": {
          "base_uri": "https://localhost:8080/"
        },
        "id": "5UgmZbzvfHtA",
        "outputId": "b193d747-7a8e-4743-8b83-f6739be133d2"
      },
      "execution_count": 3,
      "outputs": [
        {
          "output_type": "stream",
          "name": "stdout",
          "text": [
            "Enter a number: 58\n",
            "58 is not a Happy Number\n"
          ]
        }
      ]
    },
    {
      "cell_type": "code",
      "source": [
        "def find_happy_numbers(start, end):\n",
        "    happy_numbers = [num for num in range(start, end + 1) if is_happy_number(num)]\n",
        "    return happy_numbers\n",
        "\n",
        "happy_numbers = find_happy_numbers(1, 100)\n",
        "print(\"Happy Numbers between 1 and 100:\", happy_numbers)\n"
      ],
      "metadata": {
        "colab": {
          "base_uri": "https://localhost:8080/"
        },
        "id": "1Gs52uVPfJ_7",
        "outputId": "960235b3-7777-420e-bec7-2e94893b2762"
      },
      "execution_count": 4,
      "outputs": [
        {
          "output_type": "stream",
          "name": "stdout",
          "text": [
            "Happy Numbers between 1 and 100: [1, 7, 10, 13, 19, 23, 28, 31, 32, 44, 49, 68, 70, 79, 82, 86, 91, 94, 97, 100]\n"
          ]
        }
      ]
    },
    {
      "cell_type": "code",
      "source": [
        "def is_harshad_number(number):\n",
        "    num_str = str(number)\n",
        "    digit_sum = sum(int(digit) for digit in num_str)\n",
        "    return number % digit_sum == 0\n",
        "\n",
        "num = int(input(\"Enter a number: \"))\n",
        "if is_harshad_number(num):\n",
        "    print(f\"{num} is a Harshad Number\")\n",
        "else:\n",
        "    print(f\"{num} is not a Harshad Number\")\n"
      ],
      "metadata": {
        "colab": {
          "base_uri": "https://localhost:8080/"
        },
        "id": "LTT1gmptfN80",
        "outputId": "3851ae9c-d590-4113-86a8-84a40946abd8"
      },
      "execution_count": 5,
      "outputs": [
        {
          "output_type": "stream",
          "name": "stdout",
          "text": [
            "Enter a number: 54\n",
            "54 is a Harshad Number\n"
          ]
        }
      ]
    },
    {
      "cell_type": "code",
      "source": [
        "\n"
      ],
      "metadata": {
        "id": "yU74Ax3wfQqW"
      },
      "execution_count": 6,
      "outputs": []
    },
    {
      "cell_type": "code",
      "source": [],
      "metadata": {
        "id": "mA-bUus7fVz8"
      },
      "execution_count": null,
      "outputs": []
    }
  ]
}