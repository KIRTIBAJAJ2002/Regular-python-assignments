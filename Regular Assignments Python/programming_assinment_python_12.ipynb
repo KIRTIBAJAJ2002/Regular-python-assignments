{
  "nbformat": 4,
  "nbformat_minor": 0,
  "metadata": {
    "colab": {
      "provenance": []
    },
    "kernelspec": {
      "name": "python3",
      "display_name": "Python 3"
    },
    "language_info": {
      "name": "python"
    }
  },
  "cells": [
    {
      "cell_type": "markdown",
      "source": [
        "Write a Python program to find the sum of all items in a dictionary?\n"
      ],
      "metadata": {
        "id": "DowInQq-gfXt"
      }
    },
    {
      "cell_type": "code",
      "execution_count": 4,
      "metadata": {
        "colab": {
          "base_uri": "https://localhost:8080/"
        },
        "id": "ZmB9qdtAgYlA",
        "outputId": "1aa3fb10-d759-4f3a-fa66-f456e0370432"
      },
      "outputs": [
        {
          "output_type": "stream",
          "name": "stdout",
          "text": [
            "10\n"
          ]
        }
      ],
      "source": [
        "def calculate_sum(dictionary):\n",
        "    total_sum = 0\n",
        "    for value in dictionary.values():\n",
        "        total_sum += value\n",
        "    return total_sum\n",
        "my_dict = {'a': 1, 'b': 2, 'c': 3, 'd': 4}\n",
        "sum_of_items = calculate_sum(my_dict)\n",
        "print(sum_of_items)\n"
      ]
    },
    {
      "cell_type": "markdown",
      "source": [
        " Write a Python program to Merging two Dictionaries?"
      ],
      "metadata": {
        "id": "nXVooh_whqA-"
      }
    },
    {
      "cell_type": "code",
      "source": [
        "def merging_is(dict1,dict2):\n",
        "    merged_dict = {**dict1, **dict2}##** operator is used to unpack the dictionaries.\n",
        "    return merged_dict\n",
        "\n",
        "dict1 = {'a': 1, 'b': 2}\n",
        "dict2 = {'c': 3, 'd': 4}\n",
        "merged_dict = merging_is(dict1, dict2)\n",
        "print(merged_dict)"
      ],
      "metadata": {
        "colab": {
          "base_uri": "https://localhost:8080/"
        },
        "id": "MpXCX8SahPWF",
        "outputId": "2c2d8fb8-6c26-48bb-fcc3-f0fb7553920c"
      },
      "execution_count": 8,
      "outputs": [
        {
          "output_type": "stream",
          "name": "stdout",
          "text": [
            "{'a': 1, 'b': 2, 'c': 3, 'd': 4}\n"
          ]
        }
      ]
    },
    {
      "cell_type": "markdown",
      "source": [
        "Write a Python program to convert key-values list to a flat dictionary?"
      ],
      "metadata": {
        "id": "BatGcQWSjQcn"
      }
    },
    {
      "cell_type": "code",
      "source": [
        "def flat_dict_is(key,values):\n",
        "    flat_dict={}\n",
        "    for i in range (len(keys)):\n",
        "        flat_dict[keys[i]]=values[i]\n",
        "    return flat_dict\n",
        "keys = ['a', 'b', 'c']\n",
        "values = [1, 2, 3]\n",
        "flat_dictionary = flat_dict_is(keys, values)\n",
        "print(flat_dictionary)"
      ],
      "metadata": {
        "colab": {
          "base_uri": "https://localhost:8080/"
        },
        "id": "Nd4OZnAOhdpq",
        "outputId": "b87d65e0-17c2-446d-af04-71c310496a19"
      },
      "execution_count": 11,
      "outputs": [
        {
          "output_type": "stream",
          "name": "stdout",
          "text": [
            "{'a': 1, 'b': 2, 'c': 3}\n"
          ]
        }
      ]
    },
    {
      "cell_type": "markdown",
      "source": [
        "Write a Python program to insert at the beginning in OrderedDict?"
      ],
      "metadata": {
        "id": "xqLO-QDPlO2Q"
      }
    },
    {
      "cell_type": "markdown",
      "source": [
        "Write a Python program to check the order of characters in a string using OrderedDict()?"
      ],
      "metadata": {
        "id": "HhKpLvwOrOAr"
      }
    },
    {
      "cell_type": "code",
      "source": [
        "from collections import OrderedDict\n",
        "\n",
        "def check_character_order(string, pattern):\n",
        "    ordered_dict = OrderedDict.fromkeys(string)\n",
        "    pattern_index = 0\n",
        "    for key in ordered_dict:\n",
        "        if key == pattern[pattern_index]:\n",
        "            pattern_index += 1\n",
        "        if pattern_index == len(pattern):\n",
        "            return True\n",
        "    return False\n",
        "\n",
        "my_string = \"Hello World\"\n",
        "my_pattern = \"llo\"\n",
        "order_match = check_character_order(my_string, my_pattern)\n",
        "print(order_match)\n"
      ],
      "metadata": {
        "colab": {
          "base_uri": "https://localhost:8080/"
        },
        "id": "5rLdL9I6k0gq",
        "outputId": "ef587e82-bb07-4a33-8646-1f64d8553c68"
      },
      "execution_count": 13,
      "outputs": [
        {
          "output_type": "stream",
          "name": "stdout",
          "text": [
            "False\n"
          ]
        }
      ]
    },
    {
      "cell_type": "markdown",
      "source": [
        "Write a Python program to sort Python Dictionaries by Key or Value?"
      ],
      "metadata": {
        "id": "jCnkwNnnrbul"
      }
    },
    {
      "cell_type": "code",
      "source": [
        "def sort_dictionary_by_key(dictionary):\n",
        "    sorted_keys = sorted(dictionary.keys())\n",
        "    sorted_dict = {}\n",
        "    for key in sorted_keys:\n",
        "        sorted_dict[key] = dictionary[key]\n",
        "    return sorted_dict\n",
        "\n",
        "my_dict = {'c': 3, 'a': 1, 'b': 2}\n",
        "sorted_by_key = sort_dictionary_by_key(my_dict)\n",
        "print(sorted_by_key)\n"
      ],
      "metadata": {
        "colab": {
          "base_uri": "https://localhost:8080/"
        },
        "id": "Qj5nhLP2q7kJ",
        "outputId": "1cb91416-e47c-4d56-dab1-2ffbc9422fb3"
      },
      "execution_count": 15,
      "outputs": [
        {
          "output_type": "stream",
          "name": "stdout",
          "text": [
            "{'a': 1, 'b': 2, 'c': 3}\n"
          ]
        }
      ]
    },
    {
      "cell_type": "code",
      "source": [],
      "metadata": {
        "id": "u4l3GKFesNfX"
      },
      "execution_count": null,
      "outputs": []
    }
  ]
}