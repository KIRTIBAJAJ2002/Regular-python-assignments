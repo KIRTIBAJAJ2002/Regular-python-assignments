{
  "nbformat": 4,
  "nbformat_minor": 0,
  "metadata": {
    "colab": {
      "provenance": []
    },
    "kernelspec": {
      "name": "python3",
      "display_name": "Python 3"
    },
    "language_info": {
      "name": "python"
    }
  },
  "cells": [
    {
      "cell_type": "code",
      "execution_count": 9,
      "metadata": {
        "colab": {
          "base_uri": "https://localhost:8080/"
        },
        "id": "hwoYo_LbCWQM",
        "outputId": "e4170927-a3c6-47b7-acb1-04faf933a4ac"
      },
      "outputs": [
        {
          "output_type": "stream",
          "name": "stdout",
          "text": [
            "SSttrriinngg\n"
          ]
        }
      ],
      "source": [
        "#1\n",
        "def double_char(string):\n",
        "    return ''.join(char * 2 for char in string)\n",
        "\n",
        "\n",
        "print(double_char(\"String\"))"
      ]
    },
    {
      "cell_type": "code",
      "source": [
        "#2\n",
        "def reverse(value):\n",
        "    if isinstance(value, bool):\n",
        "        return not value\n",
        "    else:\n",
        "        return \"boolean expected\"\n",
        "\n",
        "print(reverse(True))\n",
        "print(reverse(False))\n",
        "print(reverse(0))\n",
        "print(reverse(None))\n"
      ],
      "metadata": {
        "colab": {
          "base_uri": "https://localhost:8080/"
        },
        "id": "tU90W_XeD4jk",
        "outputId": "d973c342-7935-438a-8de6-b0edeeac923e"
      },
      "execution_count": 11,
      "outputs": [
        {
          "output_type": "stream",
          "name": "stdout",
          "text": [
            "False\n",
            "True\n",
            "boolean expected\n",
            "boolean expected\n"
          ]
        }
      ]
    },
    {
      "cell_type": "code",
      "source": [
        "#3\n",
        "def num_layers(n):\n",
        "    thickness_mm = 0.5 * (2 ** n)\n",
        "    thickness_m = thickness_mm / 1000\n",
        "    return f\"{thickness_m}m\"\n",
        "\n",
        "\n",
        "print(num_layers(1))\n",
        "print(num_layers(4))\n",
        "print(num_layers(21))\n"
      ],
      "metadata": {
        "colab": {
          "base_uri": "https://localhost:8080/"
        },
        "id": "Q39lY0NeGTVU",
        "outputId": "438f8a9e-e91f-441f-8386-bf17e2bc1b33"
      },
      "execution_count": 13,
      "outputs": [
        {
          "output_type": "stream",
          "name": "stdout",
          "text": [
            "0.001m\n",
            "0.008m\n",
            "1048.576m\n"
          ]
        }
      ]
    },
    {
      "cell_type": "code",
      "source": [
        "def find_even_nums(n):\n",
        "    return [num for num in range(1, n+1) if num % 2 == 0]\n",
        "\n",
        "print(find_even_nums(8))\n",
        "print(find_even_nums(4))\n",
        "print(find_even_nums(2))\n"
      ],
      "metadata": {
        "colab": {
          "base_uri": "https://localhost:8080/"
        },
        "id": "aI0nubsOG5EC",
        "outputId": "615207ea-3f3e-4f13-cb79-647626dd8897"
      },
      "execution_count": 14,
      "outputs": [
        {
          "output_type": "stream",
          "name": "stdout",
          "text": [
            "[2, 4, 6, 8]\n",
            "[2, 4]\n",
            "[2]\n"
          ]
        }
      ]
    },
    {
      "cell_type": "code",
      "source": [
        "def index_of_caps(string):\n",
        "    return [index for index, char in enumerate(string) if char.isupper()]\n",
        "\n",
        "\n",
        "print(index_of_caps(\"eDaBiT\"))\n",
        "print(index_of_caps(\"eQuINoX\"))\n",
        "print(index_of_caps(\"determine\"))\n",
        "print(index_of_caps(\"STRIKE\"))\n",
        "print(index_of_caps(\"sUn\"))\n"
      ],
      "metadata": {
        "colab": {
          "base_uri": "https://localhost:8080/"
        },
        "id": "qph9PboJHZPQ",
        "outputId": "a39a12ce-8d00-469b-9fe7-1ffccbcc4ac3"
      },
      "execution_count": 15,
      "outputs": [
        {
          "output_type": "stream",
          "name": "stdout",
          "text": [
            "[1, 3, 5]\n",
            "[1, 3, 4, 6]\n",
            "[]\n",
            "[0, 1, 2, 3, 4, 5]\n",
            "[1]\n"
          ]
        }
      ]
    },
    {
      "cell_type": "code",
      "source": [],
      "metadata": {
        "id": "kkAkVk-gHhts"
      },
      "execution_count": null,
      "outputs": []
    }
  ]
}