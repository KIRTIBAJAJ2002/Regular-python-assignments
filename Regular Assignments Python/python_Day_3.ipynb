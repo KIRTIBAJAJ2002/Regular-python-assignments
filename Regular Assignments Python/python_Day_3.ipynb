{
  "nbformat": 4,
  "nbformat_minor": 0,
  "metadata": {
    "colab": {
      "provenance": []
    },
    "kernelspec": {
      "name": "python3",
      "display_name": "Python 3"
    },
    "language_info": {
      "name": "python"
    }
  },
  "cells": [
    {
      "cell_type": "markdown",
      "source": [
        "1. Scenario: A company wants to analyze the sales performance of its products in different regions. They have collected the following data:\n",
        "   Region A: [10, 15, 12, 8, 14]\n",
        "   Region B: [18, 20, 16, 22, 25]\n",
        "   Calculate the mean sales for each region.\n",
        "\n"
      ],
      "metadata": {
        "id": "BS7pBXw5LHZc"
      }
    },
    {
      "cell_type": "code",
      "source": [
        "def calculate_mean_sales(region_sales):\n",
        "    total_sales = sum(region_sales)\n",
        "    num_data_points = len(region_sales)\n",
        "    mean_sales = total_sales / num_data_points\n",
        "    return mean_sales\n",
        "\n",
        "region_a_sales = [10, 15, 12, 8, 14]\n",
        "region_b_sales = [18, 20, 16, 22, 25]\n",
        "\n",
        "mean_sales_region_a = calculate_mean_sales(region_a_sales)\n",
        "mean_sales_region_b = calculate_mean_sales(region_b_sales)\n",
        "\n",
        "print(\"Mean sales for Region A:\", mean_sales_region_a)\n",
        "print(\"Mean sales for Region B:\", mean_sales_region_b)\n"
      ],
      "metadata": {
        "colab": {
          "base_uri": "https://localhost:8080/"
        },
        "id": "8arwMamiProw",
        "outputId": "fea4ad79-b8cd-42a6-fad6-b4b82b49063f"
      },
      "execution_count": null,
      "outputs": [
        {
          "output_type": "stream",
          "name": "stdout",
          "text": [
            "Mean sales for Region A: 11.8\n",
            "Mean sales for Region B: 20.2\n"
          ]
        }
      ]
    },
    {
      "cell_type": "markdown",
      "source": [
        "2. Scenario: A survey is conducted to measure customer satisfaction on a scale of 1 to 5. The data collected is as follows:\n",
        "   [4, 5, 2, 3, 5, 4, 3, 2, 4, 5]\n",
        "   Calculate the mode of the survey responses."
      ],
      "metadata": {
        "id": "ntTR85g9Ld98"
      }
    },
    {
      "cell_type": "code",
      "source": [
        "data= [4, 5, 2, 3, 5, 4, 3, 2, 4, 5]\n",
        "def mode_is(data):\n",
        "    mode_count=0\n",
        "    mode = None\n",
        "\n",
        "    for value in data:\n",
        "        count = data.count(value)\n",
        "        if count > mode_count:\n",
        "            mode = value\n",
        "\n",
        "        return mode\n",
        "mode = mode_is(data)\n",
        "\n",
        "print(\"Mode of the survey responses:\", mode)"
      ],
      "metadata": {
        "colab": {
          "base_uri": "https://localhost:8080/"
        },
        "id": "izbkRA9aLgj6",
        "outputId": "430efe86-f843-4722-b3ad-eab66e87b6cb"
      },
      "execution_count": null,
      "outputs": [
        {
          "output_type": "stream",
          "name": "stdout",
          "text": [
            "Mode of the survey responses: 4\n"
          ]
        }
      ]
    },
    {
      "cell_type": "markdown",
      "source": [
        "3. Scenario: A company wants to compare the salaries of two departments. The salary data for Department A and Department B are as follows:\n",
        "   Department A: [5000, 6000, 5500, 7000]\n",
        "   Department B: [4500, 5500, 5800, 6000, 5200]\n",
        "   Calculate the median salary for each department."
      ],
      "metadata": {
        "id": "kWlIdAnELhhb"
      }
    },
    {
      "cell_type": "code",
      "source": [
        "A= [5000, 6000, 5500, 7000]\n",
        "B= [4500, 5500, 5800, 6000, 5200]\n",
        "C = [1,2,3,4]\n",
        "def is_median(data):\n",
        "    n = len(data)\n",
        "    sorted_data = sorted(data)\n",
        "\n",
        "    if n%2==0:\n",
        "        mid1 = sorted_data[n // 2 - 1]\n",
        "        mid2 = sorted_data[n // 2]\n",
        "        median = (mid1 + mid2) / 2\n",
        "    else:\n",
        "        median = sorted_data[n // 2]\n",
        "\n",
        "    return median\n",
        "median_a = is_median(A)\n",
        "median_b = is_median(B)\n",
        "median_c= is_median(C)\n",
        "\n",
        "print(\"Median salary for Department A:\", median_c)\n",
        "print(\"Median salary for Department A:\", median_a)\n",
        "print(\"Median salary for Department B:\", median_b)\n"
      ],
      "metadata": {
        "colab": {
          "base_uri": "https://localhost:8080/"
        },
        "id": "mTdSDO5qLjpF",
        "outputId": "0138b1ab-12f5-4b2b-b2f9-7f0d26bec498"
      },
      "execution_count": null,
      "outputs": [
        {
          "output_type": "stream",
          "name": "stdout",
          "text": [
            "Median salary for Department A: 2.5\n",
            "Median salary for Department A: 5750.0\n",
            "Median salary for Department B: 5500\n"
          ]
        }
      ]
    },
    {
      "cell_type": "markdown",
      "source": [
        "4. Scenario: A data analyst wants to determine the variability in the daily stock prices of a company. The data collected is as follows:\n",
        "   [25.5, 24.8, 26.1, 25.3, 24.9]\n",
        "   Calculate the range of the stock prices."
      ],
      "metadata": {
        "id": "2VICOtXkLkHU"
      }
    },
    {
      "cell_type": "code",
      "source": [
        "A =[25.5, 24.8, 26.1, 25.3, 24.9]\n",
        "highest = A[0]\n",
        "lowest = A[0]\n",
        "for price in A:\n",
        "    if price > highest:\n",
        "        highest = price\n",
        "    else:\n",
        "        price < lowest\n",
        "        lowest = price\n",
        "price_range = highest-lowest\n",
        "\n",
        "print(\"Range of stock prices:\", price_range)\n",
        "\n"
      ],
      "metadata": {
        "colab": {
          "base_uri": "https://localhost:8080/"
        },
        "id": "r4xNT_yOLmpE",
        "outputId": "c5aa482e-e553-4945-f24c-37bba3a1921a"
      },
      "execution_count": null,
      "outputs": [
        {
          "output_type": "stream",
          "name": "stdout",
          "text": [
            "Range of stock prices: 1.2000000000000028\n"
          ]
        }
      ]
    },
    {
      "cell_type": "markdown",
      "source": [
        "5. Scenario: A study is conducted to compare the performance of two different teaching methods. The test scores of the students in each group are as follows:\n",
        "   Group A: [85, 90, 92, 88, 91]\n",
        "   Group B: [82, 88, 90, 86, 87]\n",
        "   Perform a t-test to determine if there is a significant difference in the mean scores between the two groups."
      ],
      "metadata": {
        "id": "51SpcjEALof0"
      }
    },
    {
      "cell_type": "code",
      "source": [
        "from scipy import stats\n",
        "a= [85, 90, 92, 88, 91]\n",
        "b= [82, 88, 90, 86, 87]\n",
        "mean_a=sum(a)/len(a)\n",
        "mean_b=sum(b)/len(b)\n",
        "\n",
        "std_b = (sum((x - mean_b) ** 2 for x in b) / len(b)) ** 0.5\n",
        "std_a = (sum((x - mean_a) ** 2 for x in a) / len(a)) ** 0.5\n",
        "\n",
        "t_statistic=(mean_a - mean_b)/((std_a ** 2 / len(a)) + (std_b ** 2 / len(b))) ** 0.5\n",
        "degrees_of_freedom = len(a) + len(b) - 2\n",
        "critical_value = stats.t.ppf(1 - 0.05 / 2, degrees_of_freedom)\n",
        "if abs(t_statistic) > critical_value:\n",
        "    print(\"There is a significant difference in the mean scores between the two groups.\")\n",
        "else:\n",
        "    print(\"There is no significant difference in the mean scores between the two groups.\")\n"
      ],
      "metadata": {
        "colab": {
          "base_uri": "https://localhost:8080/"
        },
        "id": "788jOfzoLo9i",
        "outputId": "03aace45-724a-4c85-d7cf-5a710fbce821"
      },
      "execution_count": null,
      "outputs": [
        {
          "output_type": "stream",
          "name": "stdout",
          "text": [
            "There is no significant difference in the mean scores between the two groups.\n"
          ]
        }
      ]
    },
    {
      "cell_type": "markdown",
      "source": [
        "6. Scenario: A company wants to analyze the relationship between advertising expenditure and sales. The data collected is as follows:\n",
        "   Advertising Expenditure (in thousands): [10, 15, 12, 8, 14]\n",
        "   Sales (in thousands): [25, 30, 28, 20, 26]\n",
        "   Calculate the correlation coefficient between advertising expenditure and sales."
      ],
      "metadata": {
        "id": "aBPu9DtCLptb"
      }
    },
    {
      "cell_type": "code",
      "source": [
        "import numpy as np\n",
        "\n",
        "advertising_expenditure = [10, 15, 12, 8, 14]\n",
        "sales = [25, 30, 28, 20, 26]\n",
        "\n",
        "correlation_coefficient = np.corrcoef(advertising_expenditure, sales)[0, 1]\n",
        "\n",
        "print(\"Correlation coefficient:\", correlation_coefficient)\n"
      ],
      "metadata": {
        "id": "hL7UXJQqLrup",
        "colab": {
          "base_uri": "https://localhost:8080/"
        },
        "outputId": "0df96055-d3b1-4241-93bb-b4c197975533"
      },
      "execution_count": null,
      "outputs": [
        {
          "output_type": "stream",
          "name": "stdout",
          "text": [
            "Correlation coefficient: 0.8757511375750132\n"
          ]
        }
      ]
    },
    {
      "cell_type": "markdown",
      "source": [
        "7. Scenario: A survey is conducted to measure the heights of a group of people. The data collected is as follows:\n",
        "   [160, 170, 165, 155, 175, 180, 170]\n",
        "   Calculate the standard deviation of the heights."
      ],
      "metadata": {
        "id": "bWJ-p0zyLsPy"
      }
    },
    {
      "cell_type": "code",
      "source": [
        "heights = [160, 170, 165, 155, 175, 180, 170]\n",
        "\n",
        "mean_height = sum(heights) / len(heights)\n",
        "\n",
        "squared_diffs = [(height - mean_height) ** 2 for height in heights]\n",
        "\n",
        "mean_squared_diffs = sum(squared_diffs) / len(heights)\n",
        "\n",
        "standard_deviation = mean_squared_diffs ** 0.5\n",
        "\n",
        "print(\"Standard deviation of heights:\", standard_deviation)\n"
      ],
      "metadata": {
        "id": "i9lT0g0PLumE",
        "colab": {
          "base_uri": "https://localhost:8080/"
        },
        "outputId": "8f234ca4-fc06-45e5-ff92-08b8eeb40466"
      },
      "execution_count": null,
      "outputs": [
        {
          "output_type": "stream",
          "name": "stdout",
          "text": [
            "Standard deviation of heights: 7.953949089757174\n"
          ]
        }
      ]
    },
    {
      "cell_type": "markdown",
      "source": [
        "8. Scenario: A company wants to analyze the relationship between employee tenure and job satisfaction. The data collected is as follows:\n",
        "   Employee Tenure (in years): [2, 3, 5, 4, 6, 2, 4]\n",
        "   Job Satisfaction (on a scale of 1 to 10): [7, 8, 6, 9, 5, 7, 6]\n",
        "   Perform a linear regression analysis to predict job satisfaction based on employee tenure."
      ],
      "metadata": {
        "id": "dI60lh0dLvD-"
      }
    },
    {
      "cell_type": "code",
      "source": [
        "import numpy as np\n",
        "import statsmodels.api as sm\n",
        "\n",
        "tenure = np.array([2, 3, 5, 4, 6, 2, 4])\n",
        "\n",
        "satisfaction = np.array([7, 8, 6, 9, 5, 7, 6])\n",
        "\n",
        "X = sm.add_constant(tenure)\n",
        "\n",
        "model = sm.OLS(satisfaction, X)\n",
        "results = model.fit()\n",
        "\n",
        "# Get the coefficients and intercept of the linear regression line\n",
        "intercept = results.params[0]\n",
        "slope = results.params[1]\n",
        "\n",
        "print(results.summary())\n",
        "print(\"Linear regression equation: Job Satisfaction = {:.2f} * Employee Tenure + {:.2f}\".format(slope, intercept))\n"
      ],
      "metadata": {
        "id": "wq19dyUjLxN-",
        "colab": {
          "base_uri": "https://localhost:8080/"
        },
        "outputId": "ce76128d-a59b-484b-dae2-8b2df5767ed1"
      },
      "execution_count": null,
      "outputs": [
        {
          "output_type": "stream",
          "name": "stdout",
          "text": [
            "                            OLS Regression Results                            \n",
            "==============================================================================\n",
            "Dep. Variable:                      y   R-squared:                       0.271\n",
            "Model:                            OLS   Adj. R-squared:                  0.125\n",
            "Method:                 Least Squares   F-statistic:                     1.859\n",
            "Date:                Sun, 09 Jul 2023   Prob (F-statistic):              0.231\n",
            "Time:                        11:59:11   Log-Likelihood:                -10.362\n",
            "No. Observations:                   7   AIC:                             24.72\n",
            "Df Residuals:                       5   BIC:                             24.62\n",
            "Df Model:                           1                                         \n",
            "Covariance Type:            nonrobust                                         \n",
            "==============================================================================\n",
            "                 coef    std err          t      P>|t|      [0.025      0.975]\n",
            "------------------------------------------------------------------------------\n",
            "const          8.5957      1.361      6.316      0.001       5.097      12.094\n",
            "x1            -0.4681      0.343     -1.363      0.231      -1.351       0.414\n",
            "==============================================================================\n",
            "Omnibus:                          nan   Durbin-Watson:                   2.414\n",
            "Prob(Omnibus):                    nan   Jarque-Bera (JB):                1.954\n",
            "Skew:                           1.292   Prob(JB):                        0.376\n",
            "Kurtosis:                       3.166   Cond. No.                         12.0\n",
            "==============================================================================\n",
            "\n",
            "Notes:\n",
            "[1] Standard Errors assume that the covariance matrix of the errors is correctly specified.\n",
            "Linear regression equation: Job Satisfaction = -0.47 * Employee Tenure + 8.60\n"
          ]
        },
        {
          "output_type": "stream",
          "name": "stderr",
          "text": [
            "/usr/local/lib/python3.10/dist-packages/statsmodels/stats/stattools.py:74: ValueWarning: omni_normtest is not valid with less than 8 observations; 7 samples were given.\n",
            "  warn(\"omni_normtest is not valid with less than 8 observations; %i \"\n"
          ]
        }
      ]
    },
    {
      "cell_type": "markdown",
      "source": [
        "9. Scenario: A study is conducted to compare the effectiveness of two different medications. The recovery times of the patients in each group are as follows:\n",
        "   Medication A: [10, 12, 14, 11, 13]\n",
        "   Medication B: [15, 17, 16, 14, 18]\n",
        "   Perform an analysis of variance (ANOVA) to determine if there is a significant difference in the mean recovery times between the two medications."
      ],
      "metadata": {
        "id": "C3MznW7HLx0J"
      }
    },
    {
      "cell_type": "code",
      "source": [
        "from scipy import stats\n",
        "\n",
        "a = [10, 12, 14, 11, 13]\n",
        "b = [15, 17, 16, 14, 18]\n",
        "\n",
        "f_value, p_value = stats.f_oneway(a, b)\n",
        "\n",
        "print(\"F-value:\", f_value)\n",
        "print(\"P-value:\", p_value)\n"
      ],
      "metadata": {
        "id": "scubpGDjLzyH",
        "colab": {
          "base_uri": "https://localhost:8080/"
        },
        "outputId": "6b70bac6-a615-49ee-d0fa-43e4f8045695"
      },
      "execution_count": null,
      "outputs": [
        {
          "output_type": "stream",
          "name": "stdout",
          "text": [
            "F-value: 16.0\n",
            "P-value: 0.003949772803445326\n"
          ]
        }
      ]
    },
    {
      "cell_type": "markdown",
      "source": [
        "10. Scenario: A company wants to analyze customer feedback ratings on a scale of 1 to 10. The data collected is\n",
        "\n",
        " as follows:\n",
        "    [8, 9, 7, 6, 8, 10, 9, 8, 7, 8]\n",
        "    Calculate the 75th percentile of the feedback ratings."
      ],
      "metadata": {
        "id": "hhjuXtyAL29m"
      }
    },
    {
      "cell_type": "code",
      "source": [
        "import numpy as np\n",
        "\n",
        "feedback_ratings = [8, 9, 7, 6, 8, 10, 9, 8, 7, 8]\n",
        "\n",
        "percentile_75 = np.percentile(feedback_ratings, 75)\n",
        "\n",
        "print(\"75th percentile of feedback ratings:\", percentile_75)\n"
      ],
      "metadata": {
        "id": "O4217PcsL3aY",
        "colab": {
          "base_uri": "https://localhost:8080/"
        },
        "outputId": "a27b6634-b467-4a49-d8e4-bcb60922caa3"
      },
      "execution_count": null,
      "outputs": [
        {
          "output_type": "stream",
          "name": "stdout",
          "text": [
            "75th percentile of feedback ratings: 8.75\n"
          ]
        }
      ]
    },
    {
      "cell_type": "markdown",
      "source": [
        "11. Scenario: A quality control department wants to test the weight consistency of a product. The weights of a sample of products are as follows:\n",
        "    [10.2, 9.8, 10.0, 10.5, 10.3, 10.1]\n",
        "    Perform a hypothesis test to determine if the mean weight differs significantly from 10 grams.\n"
      ],
      "metadata": {
        "id": "IcZuaB0KL5an"
      }
    },
    {
      "cell_type": "code",
      "source": [
        "import numpy as np\n",
        "from scipy.stats import ttest_1samp\n",
        "\n",
        "weights = [10.2, 9.8, 10.0, 10.5, 10.3, 10.1]\n",
        "population_mean = 10.0\n",
        "\n",
        "t_statistic, p_value = ttest_1samp(weights, population_mean)\n",
        "\n",
        "print(\"T-statistic:\", t_statistic)\n",
        "print(\"P-value:\", p_value)\n"
      ],
      "metadata": {
        "id": "TgJ7g2HJL543",
        "colab": {
          "base_uri": "https://localhost:8080/"
        },
        "outputId": "4e35e43e-6878-44ad-b65a-15cf14c6f8b5"
      },
      "execution_count": null,
      "outputs": [
        {
          "output_type": "stream",
          "name": "stdout",
          "text": [
            "T-statistic: 1.5126584522688367\n",
            "P-value: 0.19077595151110102\n"
          ]
        }
      ]
    },
    {
      "cell_type": "markdown",
      "source": [
        "12. Scenario: A company wants to analyze the click-through rates of two different website designs. The number of clicks for each design is as follows:\n",
        "    Design A: [100, 120, 110, 90, 95]\n",
        "    Design B: [80, 85, 90, 95, 100]\n",
        "    Perform a chi-square test to determine if there is a significant difference in the click-through rates between the two designs."
      ],
      "metadata": {
        "id": "d-wu6fDML77L"
      }
    },
    {
      "cell_type": "code",
      "source": [
        "import scipy.stats as stats\n",
        "import numpy as np\n",
        "\n",
        "design_a = [100, 120, 110, 90, 95]\n",
        "design_b = [80, 85, 90, 95, 100]\n",
        "\n",
        "observed = np.array([design_a, design_b])\n",
        "\n",
        "chi2_statistic, p_value, _, _ = stats.chi2_contingency(observed)\n",
        "\n",
        "print(\"Chi-square statistic:\", chi2_statistic)\n",
        "print(\"P-value:\", p_value)\n",
        "\n"
      ],
      "metadata": {
        "id": "9kgBXZprL8Sj",
        "colab": {
          "base_uri": "https://localhost:8080/"
        },
        "outputId": "60fe6594-5d44-4167-c40c-7b43b4f70db4"
      },
      "execution_count": null,
      "outputs": [
        {
          "output_type": "stream",
          "name": "stdout",
          "text": [
            "Chi-square statistic: 6.110658166925435\n",
            "P-value: 0.19103526314060293\n"
          ]
        }
      ]
    },
    {
      "cell_type": "markdown",
      "source": [
        "13. Scenario: A survey is conducted to measure customer satisfaction with a product on a scale of 1 to 10. The data collected is as follows:\n",
        "    [7, 9, 6, 8, 10, 7, 8, 9, 7, 8]\n",
        "    Calculate the 95% confidence interval for the population mean satisfaction score.\n"
      ],
      "metadata": {
        "id": "qfMgvzemL-iO"
      }
    },
    {
      "cell_type": "code",
      "source": [
        "import scipy.stats as stats\n",
        "import numpy as np\n",
        "\n",
        "satisfaction_scores = [7, 9, 6, 8, 10, 7, 8, 9, 7, 8]\n",
        "\n",
        "sample_mean = np.mean(satisfaction_scores)\n",
        "standard_error = stats.sem(satisfaction_scores)\n",
        "\n",
        "confidence_level = 0.95\n",
        "\n",
        "margin_of_error = stats.t.ppf((1 + confidence_level) / 2, len(satisfaction_scores) - 1) * standard_error\n",
        "\n",
        "confidence_interval = (sample_mean - margin_of_error, sample_mean + margin_of_error)\n",
        "\n",
        "print(\"95% Confidence Interval:\", confidence_interval)\n"
      ],
      "metadata": {
        "id": "ZEaXwkgqL-7F",
        "colab": {
          "base_uri": "https://localhost:8080/"
        },
        "outputId": "0d66d1de-92cb-452b-d910-f70cc5031f04"
      },
      "execution_count": null,
      "outputs": [
        {
          "output_type": "stream",
          "name": "stdout",
          "text": [
            "95% Confidence Interval: (7.043561120599888, 8.756438879400113)\n"
          ]
        }
      ]
    },
    {
      "cell_type": "markdown",
      "source": [
        "14. Scenario: A company wants to analyze the effect of temperature on product performance. The data collected is as follows:\n",
        "    Temperature (in degrees Celsius): [20, 22, 23, 19, 21]\n",
        "    Performance (on a scale of 1 to 10): [8, 7, 9, 6, 8]\n",
        "    Perform a simple linear regression to predict performance based on temperature."
      ],
      "metadata": {
        "id": "R1lCIbVGMAye"
      }
    },
    {
      "cell_type": "code",
      "source": [
        "import numpy as np\n",
        "import statsmodels.api as sm\n",
        "\n",
        "temp = np.array( [20, 22, 23, 19, 21])\n",
        "perform = np.array([8, 7, 9, 6, 8])\n",
        "\n",
        "temp_with_constant = sm.add_constant(temp)\n",
        "\n",
        "model = sm.OLS(perform, temp_with_constant)\n",
        "results = model.fit()\n",
        "\n",
        "intercept = results.params[0]\n",
        "coefficient = results.params[1]\n",
        "\n",
        "print(\"Expenditure (in thousands):\", temp)\n",
        "print(\"Sales (in thousands):\", perform)\n",
        "print(\"Expenditure with constant:\", temp_with_constant)\n",
        "print(\"\\nIntercept:\", intercept)\n",
        "print(\"Coefficient:\", coefficient)\n",
        "print(results.summary())"
      ],
      "metadata": {
        "id": "VSFPE8sGMBNn",
        "colab": {
          "base_uri": "https://localhost:8080/"
        },
        "outputId": "583f0a72-9638-437d-acea-d5e6689a2303"
      },
      "execution_count": 7,
      "outputs": [
        {
          "output_type": "stream",
          "name": "stdout",
          "text": [
            "Expenditure (in thousands): [20 22 23 19 21]\n",
            "Sales (in thousands): [8 7 9 6 8]\n",
            "Expenditure with constant: [[ 1. 20.]\n",
            " [ 1. 22.]\n",
            " [ 1. 23.]\n",
            " [ 1. 19.]\n",
            " [ 1. 21.]]\n",
            "\n",
            "Intercept: -2.899999999999972\n",
            "Coefficient: 0.49999999999999867\n",
            "                            OLS Regression Results                            \n",
            "==============================================================================\n",
            "Dep. Variable:                      y   R-squared:                       0.481\n",
            "Model:                            OLS   Adj. R-squared:                  0.308\n",
            "Method:                 Least Squares   F-statistic:                     2.778\n",
            "Date:                Mon, 10 Jul 2023   Prob (F-statistic):              0.194\n",
            "Time:                        10:52:17   Log-Likelihood:                -5.5542\n",
            "No. Observations:                   5   AIC:                             15.11\n",
            "Df Residuals:                       3   BIC:                             14.33\n",
            "Df Model:                           1                                         \n",
            "Covariance Type:            nonrobust                                         \n",
            "==============================================================================\n",
            "                 coef    std err          t      P>|t|      [0.025      0.975]\n",
            "------------------------------------------------------------------------------\n",
            "const         -2.9000      6.314     -0.459      0.677     -22.995      17.195\n",
            "x1             0.5000      0.300      1.667      0.194      -0.455       1.455\n",
            "==============================================================================\n",
            "Omnibus:                          nan   Durbin-Watson:                   3.056\n",
            "Prob(Omnibus):                    nan   Jarque-Bera (JB):                0.522\n",
            "Skew:                          -0.348   Prob(JB):                        0.770\n",
            "Kurtosis:                       1.578   Cond. No.                         314.\n",
            "==============================================================================\n",
            "\n",
            "Notes:\n",
            "[1] Standard Errors assume that the covariance matrix of the errors is correctly specified.\n"
          ]
        },
        {
          "output_type": "stream",
          "name": "stderr",
          "text": [
            "/usr/local/lib/python3.10/dist-packages/statsmodels/stats/stattools.py:74: ValueWarning: omni_normtest is not valid with less than 8 observations; 5 samples were given.\n",
            "  warn(\"omni_normtest is not valid with less than 8 observations; %i \"\n"
          ]
        }
      ]
    },
    {
      "cell_type": "markdown",
      "source": [
        "15. Scenario: A study is conducted to compare the preferences of two groups of participants. The preferences are measured on a Likert scale from 1 to 5. The data collected is as follows:\n",
        "    Group A: [4, 3, 5, 2, 4]\n",
        "    Group B: [3, 2, 4, 3, 3]\n",
        "    Perform a Mann-Whitney U test to determine if there is a significant difference in the median preferences between the two groups."
      ],
      "metadata": {
        "id": "gkDAvni3MEPF"
      }
    },
    {
      "cell_type": "code",
      "source": [
        "import numpy as np\n",
        "from scipy.stats import mannwhitneyu\n",
        "group_a = np.array([4, 3, 5, 2, 4])\n",
        "group_b = np.array([3, 2, 4, 3, 3])\n",
        "statistic, p_value = mannwhitneyu(group_a, group_b, alternative='two-sided')\n",
        "alpha = 0.05\n",
        "print(\"Mann-Whitney U statistic:\", statistic)\n",
        "print(\"p-value:\", p_value)\n",
        "\n",
        "if p_value < alpha:\n",
        "    print(\"There is a significant difference in median preferences between the two groups.\")\n",
        "else:\n",
        "    print(\"There is no significant difference in median preferences between the two groups.\")\n"
      ],
      "metadata": {
        "id": "m2PPD3QGMEs8",
        "colab": {
          "base_uri": "https://localhost:8080/"
        },
        "outputId": "a6c01d1a-7f84-4d2b-a734-f6a4a3df107f"
      },
      "execution_count": 3,
      "outputs": [
        {
          "output_type": "stream",
          "name": "stdout",
          "text": [
            "Mann-Whitney U statistic: 17.0\n",
            "p-value: 0.380836480306712\n",
            "There is no significant difference in median preferences between the two groups.\n"
          ]
        }
      ]
    },
    {
      "cell_type": "markdown",
      "source": [
        "16. Scenario: A company wants to analyze the distribution of customer ages. The data collected is as follows:\n",
        "    [25, 30, 35, 40, 45, 50, 55, 60, 65, 70]\n",
        "    Calculate the interquartile range (IQR) of the ages.\n"
      ],
      "metadata": {
        "id": "BpB8V9PQMG1Q"
      }
    },
    {
      "cell_type": "code",
      "source": [
        "a =  [25, 30, 35, 40, 45, 50, 55, 60, 65, 70]\n",
        "sorted_ages=sorted(a)\n",
        "n=len(sorted_ages)\n",
        "q1_index = int(n * 0.25)\n",
        "q3_index = int(n * 0.75)\n",
        "\n",
        "q1 = sorted_ages[q1_index]\n",
        "q3 = sorted_ages[q3_index]\n",
        "\n",
        "iqr = q3 - q1\n",
        "\n",
        "print(\"Sorted ages:\", sorted_ages)\n",
        "print(\"First Quartile (Q1):\", q1)\n",
        "print(\"Third Quartile (Q3):\", q3)\n",
        "print(\"Interquartile Range (IQR):\", iqr)\n"
      ],
      "metadata": {
        "id": "Z2YN3snVMHV3",
        "colab": {
          "base_uri": "https://localhost:8080/"
        },
        "outputId": "bedbe3ce-c6e1-4b2a-aba4-e4161298f41e"
      },
      "execution_count": 4,
      "outputs": [
        {
          "output_type": "stream",
          "name": "stdout",
          "text": [
            "Sorted ages: [25, 30, 35, 40, 45, 50, 55, 60, 65, 70]\n",
            "First Quartile (Q1): 35\n",
            "Third Quartile (Q3): 60\n",
            "Interquartile Range (IQR): 25\n"
          ]
        }
      ]
    },
    {
      "cell_type": "markdown",
      "source": [
        "earning algorithms. The accuracy scores for each algorithm are as follows:\n",
        "    Algorithm A: [0.85, 0.80, 0.82, 0.87, 0.83]\n",
        "    Algorithm B: [0.78, 0.82, 0.84, 0.80, 0.79]\n",
        "    Algorithm C: [0.90, 0.88, 0.89, 0.86, 0.87]\n",
        "    Perform a Kruskal-Wallis test to determine if there is a significant difference in the median accuracy scores between the algorithms.\n"
      ],
      "metadata": {
        "id": "Q22GVcRZMJm7"
      }
    },
    {
      "cell_type": "code",
      "source": [
        "import numpy as np\n",
        "from scipy.stats import kruskal\n",
        "\n",
        "algorithm_a = np.array([0.85, 0.80, 0.82, 0.87, 0.83])\n",
        "algorithm_b = np.array([0.78, 0.82, 0.84, 0.80, 0.79])\n",
        "algorithm_c = np.array([0.90, 0.88, 0.89, 0.86, 0.87])\n",
        "\n",
        "statistic, p_value = kruskal(algorithm_a, algorithm_b, algorithm_c)\n",
        "\n",
        "alpha = 0.05\n",
        "\n",
        "print(\"Accuracy scores for Algorithm A:\", algorithm_a)\n",
        "print(\"Accuracy scores for Algorithm B:\", algorithm_b)\n",
        "print(\"Accuracy scores for Algorithm C:\", algorithm_c)\n",
        "\n",
        "print(\"\\nKruskal-Wallis statistic:\", statistic)\n",
        "print(\"p-value:\", p_value)\n",
        "\n",
        "if p_value < alpha:\n",
        "    print(\"\\nThere is a significant difference in median accuracy scores between the algorithms.\")\n",
        "else:\n",
        "    print(\"\\nThere is no significant difference in median accuracy scores between the algorithms.\")\n"
      ],
      "metadata": {
        "id": "20C0NqjDMKP-"
      },
      "execution_count": null,
      "outputs": []
    },
    {
      "cell_type": "markdown",
      "source": [
        "18. Scenario: A company wants to analyze the effect of price on sales. The data collected is as follows:\n",
        "    Price (in dollars): [10, 15, 12, 8, 14]\n",
        "    Sales: [100, 80, 90, 110, 95]\n",
        "    Perform a simple linear regression to predict\n",
        "\n",
        " sales based on price.\n"
      ],
      "metadata": {
        "id": "Ugfw85DeMK7u"
      }
    },
    {
      "cell_type": "code",
      "source": [
        "import numpy as np\n",
        "import statsmodels.api as sm\n",
        "\n",
        "price = np.array([10, 15, 12, 8, 14])\n",
        "sales = np.array([100, 80, 90, 110, 95])\n",
        "\n",
        "price_with_constant = sm.add_constant(price)\n",
        "\n",
        "model = sm.OLS(sales, price_with_constant)\n",
        "results = model.fit()\n",
        "\n",
        "intercept = results.params[0]\n",
        "coefficient = results.params[1]\n",
        "\n",
        "print(\"Expenditure (in thousands):\", price)\n",
        "print(\"Sales (in thousands):\", sales)\n",
        "print(\"Expenditure with constant:\", price_with_constant)\n",
        "print(\"\\nIntercept:\", intercept)\n",
        "print(\"Coefficient:\", coefficient)\n",
        "print(results.summary())"
      ],
      "metadata": {
        "id": "4e2UUrkiMNoJ",
        "colab": {
          "base_uri": "https://localhost:8080/"
        },
        "outputId": "e6538ae6-dc16-44a0-b203-b129e133fe95"
      },
      "execution_count": 6,
      "outputs": [
        {
          "output_type": "stream",
          "name": "stdout",
          "text": [
            "Expenditure (in thousands): [10 15 12  8 14]\n",
            "Sales (in thousands): [100  80  90 110  95]\n",
            "Expenditure with constant: [[ 1. 10.]\n",
            " [ 1. 15.]\n",
            " [ 1. 12.]\n",
            " [ 1.  8.]\n",
            " [ 1. 14.]]\n",
            "\n",
            "Intercept: 136.3719512195122\n",
            "Coefficient: -3.5060975609756113\n",
            "                            OLS Regression Results                            \n",
            "==============================================================================\n",
            "Dep. Variable:                      y   R-squared:                       0.806\n",
            "Model:                            OLS   Adj. R-squared:                  0.742\n",
            "Method:                 Least Squares   F-statistic:                     12.50\n",
            "Date:                Mon, 10 Jul 2023   Prob (F-statistic):             0.0385\n",
            "Time:                        10:49:41   Log-Likelihood:                -14.503\n",
            "No. Observations:                   5   AIC:                             33.01\n",
            "Df Residuals:                       3   BIC:                             32.22\n",
            "Df Model:                           1                                         \n",
            "Covariance Type:            nonrobust                                         \n",
            "==============================================================================\n",
            "                 coef    std err          t      P>|t|      [0.025      0.975]\n",
            "------------------------------------------------------------------------------\n",
            "const        136.3720     11.976     11.387      0.001      98.259     174.485\n",
            "x1            -3.5061      0.992     -3.535      0.039      -6.663      -0.350\n",
            "==============================================================================\n",
            "Omnibus:                          nan   Durbin-Watson:                   0.811\n",
            "Prob(Omnibus):                    nan   Jarque-Bera (JB):                0.632\n",
            "Skew:                           0.770   Prob(JB):                        0.729\n",
            "Kurtosis:                       2.186   Cond. No.                         57.3\n",
            "==============================================================================\n",
            "\n",
            "Notes:\n",
            "[1] Standard Errors assume that the covariance matrix of the errors is correctly specified.\n"
          ]
        },
        {
          "output_type": "stream",
          "name": "stderr",
          "text": [
            "/usr/local/lib/python3.10/dist-packages/statsmodels/stats/stattools.py:74: ValueWarning: omni_normtest is not valid with less than 8 observations; 5 samples were given.\n",
            "  warn(\"omni_normtest is not valid with less than 8 observations; %i \"\n"
          ]
        }
      ]
    },
    {
      "cell_type": "markdown",
      "source": [
        "19. Scenario: A survey is conducted to measure the satisfaction levels of customers with a new product. The data collected is as follows:\n",
        "    [7, 8, 9, 6, 8, 7, 9, 7, 8, 7]\n",
        "    Calculate the standard error of the mean satisfaction score."
      ],
      "metadata": {
        "id": "Q7yWyIhHMPxU"
      }
    },
    {
      "cell_type": "code",
      "source": [
        "\n",
        "import numpy as np\n",
        "a = [7, 8, 9, 6, 8, 7, 9, 7, 8, 7]\n",
        "sample_size = len(a)\n",
        "\n",
        "std_deviation=np.std(a)\n",
        "\n",
        "std_error=std_deviation/np.sqrt(sample_size)\n",
        "\n",
        "print(\"Standard Error of the Mean:\", std_error)"
      ],
      "metadata": {
        "id": "PKk2ZqfBMQMc",
        "colab": {
          "base_uri": "https://localhost:8080/"
        },
        "outputId": "f68b8eb1-6076-4866-9691-92779fe8b71c"
      },
      "execution_count": null,
      "outputs": [
        {
          "output_type": "stream",
          "name": "stdout",
          "text": [
            "Standard Error of the Mean: 0.28982753492378877\n"
          ]
        }
      ]
    },
    {
      "cell_type": "markdown",
      "source": [
        "20. Scenario: A company wants to analyze the relationship between advertising expenditure and sales. The data collected is as follows:\n",
        "    Advertising Expenditure (in thousands): [10, 15, 12, 8, 14]\n",
        "    Sales (in thousands): [25, 30, 28, 20, 26]\n",
        "    Perform a multiple regression analysis to predict sales based on advertising expenditure.\n",
        "\n"
      ],
      "metadata": {
        "id": "F-PedHWMMS1b"
      }
    },
    {
      "cell_type": "code",
      "source": [
        "import numpy as np\n",
        "import statsmodels.api as sm\n",
        "\n",
        "expenditure = np.array([10, 15, 12, 8, 14])\n",
        "sales = np.array([25, 30, 28, 20, 26])\n",
        "\n",
        "expenditure_with_constant = sm.add_constant(expenditure)\n",
        "\n",
        "model = sm.OLS(sales, expenditure_with_constant)\n",
        "results = model.fit()\n",
        "\n",
        "intercept = results.params[0]\n",
        "coefficient = results.params[1]\n",
        "\n",
        "print(\"Expenditure (in thousands):\", expenditure)\n",
        "print(\"Sales (in thousands):\", sales)\n",
        "print(\"Expenditure with constant:\", expenditure_with_constant)\n",
        "print(\"\\nIntercept:\", intercept)\n",
        "print(\"Coefficient:\", coefficient)\n",
        "print(results.summary())\n"
      ],
      "metadata": {
        "id": "Sm0EGS9BMTQ2",
        "colab": {
          "base_uri": "https://localhost:8080/"
        },
        "outputId": "068dfa85-146e-48bf-bf3f-69d35bcb7a3b"
      },
      "execution_count": 5,
      "outputs": [
        {
          "output_type": "stream",
          "name": "stdout",
          "text": [
            "Expenditure (in thousands): [10 15 12  8 14]\n",
            "Sales (in thousands): [25 30 28 20 26]\n",
            "Expenditure with constant: [[ 1. 10.]\n",
            " [ 1. 15.]\n",
            " [ 1. 12.]\n",
            " [ 1.  8.]\n",
            " [ 1. 14.]]\n",
            "\n",
            "Intercept: 12.201219512195118\n",
            "Coefficient: 1.1524390243902434\n",
            "                            OLS Regression Results                            \n",
            "==============================================================================\n",
            "Dep. Variable:                      y   R-squared:                       0.767\n",
            "Model:                            OLS   Adj. R-squared:                  0.689\n",
            "Method:                 Least Squares   F-statistic:                     9.872\n",
            "Date:                Mon, 10 Jul 2023   Prob (F-statistic):             0.0516\n",
            "Time:                        10:47:28   Log-Likelihood:                -9.5288\n",
            "No. Observations:                   5   AIC:                             23.06\n",
            "Df Residuals:                       3   BIC:                             22.28\n",
            "Df Model:                           1                                         \n",
            "Covariance Type:            nonrobust                                         \n",
            "==============================================================================\n",
            "                 coef    std err          t      P>|t|      [0.025      0.975]\n",
            "------------------------------------------------------------------------------\n",
            "const         12.2012      4.429      2.755      0.070      -1.893      26.296\n",
            "x1             1.1524      0.367      3.142      0.052      -0.015       2.320\n",
            "==============================================================================\n",
            "Omnibus:                          nan   Durbin-Watson:                   1.136\n",
            "Prob(Omnibus):                    nan   Jarque-Bera (JB):                0.546\n",
            "Skew:                          -0.267   Prob(JB):                        0.761\n",
            "Kurtosis:                       1.471   Cond. No.                         57.3\n",
            "==============================================================================\n",
            "\n",
            "Notes:\n",
            "[1] Standard Errors assume that the covariance matrix of the errors is correctly specified.\n"
          ]
        },
        {
          "output_type": "stream",
          "name": "stderr",
          "text": [
            "/usr/local/lib/python3.10/dist-packages/statsmodels/stats/stattools.py:74: ValueWarning: omni_normtest is not valid with less than 8 observations; 5 samples were given.\n",
            "  warn(\"omni_normtest is not valid with less than 8 observations; %i \"\n"
          ]
        }
      ]
    },
    {
      "cell_type": "code",
      "source": [],
      "metadata": {
        "id": "L96FWaDiarGE"
      },
      "execution_count": null,
      "outputs": []
    }
  ]
}